{
 "cells": [
  {
   "cell_type": "markdown",
   "metadata": {},
   "source": [
    "## <b>■ 5장. 오차역전파</b>\n",
    "### <b>■ 계산그래프 (p.148)</b>\n",
    "    순전파와 역전파에 계산과정을 그래프로 나타내는 방법\n",
    "    \n",
    "    계산 그래프의 장점\n",
    "        1. 국소적 계산을 할 수 있다.\n",
    "        2. 국소적 계산이란 전체에 어떤 일이 벌어지든 상관없이 자신과 관련된 정보만으로 다음의 결과를 출력할 수 있다.\n",
    "![fig5-4](dl_images/fig5-4(e).png)\n",
    "\n",
    "    4000원이라는 숫자가 어떻게 계산 되었느냐와는 상관없이 \n",
    "    사과가 어떻게 200원이 되었는가만 신경쓰면 된다는 것이 국소적 계산\n",
    "    \n",
    "### <b>■ 왜 계산 그래프로 문제를 해결하는가?</b>\n",
    "    전체가 아무리 복잡해도 각 노드에서 단순한 계산에 집중하여 문제를 단순화 시킬 수 있다.\n",
    "    \n",
    "### <b>■ 실제로 계산 그래프를 사용하는 가장 큰 이유는?</b>\n",
    "    역전파를 통해서 미분을 효율적으로 계산할 수 있는 점에 있다.\n",
    "    \n",
    "    활성화 함수          ->          출력층 함수           ->        오차함수\n",
    "        시그모이드 함수                   소프트맥스 함수                교차 엔트로피 오차 함수\n",
    "        ReLU  함수                       항등 함수                      평균제곱오차 함수\n",
    "        \n",
    "    가중치(w1)에 변화가 생겼을 때 오차는 얼마나 달라지는지?\n",
    "    사과 값이 '아주 조금' 올랐을 때 '지불금액'이 얼마나 증가하는지 알고 싶다면?\n",
    "$$ {{\\partial (지불금액)} \\over \\partial (사과값)} $$\n",
    "<center><b>지불금액의 사과값으로 편미분하면 알 수 있다.</b></center>\n",
    "    \n",
    "![사과계산](http://cfile262.uf.daum.net/image/99D26B3C5F2BBCC328C605)"
   ]
  },
  {
   "cell_type": "markdown",
   "metadata": {},
   "source": [
    "### ※ 문제73. 곱셈계층을 파이썬으로 구현하시오"
   ]
  },
  {
   "cell_type": "code",
   "execution_count": 1,
   "metadata": {
    "ExecuteTime": {
     "end_time": "2020-08-07T02:34:36.164282Z",
     "start_time": "2020-08-07T02:34:36.147292Z"
    }
   },
   "outputs": [],
   "source": [
    "class MulLayer:\n",
    "    def __init__(self):\n",
    "        self.x = None\n",
    "        self.y = None\n",
    "    \n",
    "    def forward(self, x, y):\n",
    "        self.x = x\n",
    "        self.y = y\n",
    "        out = x * y\n",
    "        \n",
    "        return out\n",
    "    \n",
    "    def backward(self, dout):\n",
    "        dx = dout * self.y\n",
    "        dy = dout * self.x\n",
    "        return dx, dy"
   ]
  },
  {
   "cell_type": "markdown",
   "metadata": {},
   "source": [
    "![fig5-12](dl_images/fig5-12(e).png)"
   ]
  },
  {
   "cell_type": "markdown",
   "metadata": {},
   "source": [
    "### ※ 문제74. 위에서 만든 곱셈 클래스를 객체화 시켜서 아래의 사과 가격의 총 가격을 구하시오"
   ]
  },
  {
   "cell_type": "code",
   "execution_count": 2,
   "metadata": {
    "ExecuteTime": {
     "end_time": "2020-08-07T02:36:44.425438Z",
     "start_time": "2020-08-07T02:36:44.405451Z"
    }
   },
   "outputs": [
    {
     "data": {
      "text/plain": [
       "220.00000000000003"
      ]
     },
     "execution_count": 2,
     "metadata": {},
     "output_type": "execute_result"
    }
   ],
   "source": [
    "mul = MulLayer()\n",
    "apple = 100\n",
    "apple_num = 2\n",
    "tax = 1.1\n",
    "mul.forward(mul.forward(apple, apple_num),tax)"
   ]
  },
  {
   "cell_type": "markdown",
   "metadata": {},
   "source": [
    "### ※ 문제75. 덧셈계층 클래스를 파이썬으로 구현하시오 (p.163)"
   ]
  },
  {
   "cell_type": "code",
   "execution_count": 3,
   "metadata": {
    "ExecuteTime": {
     "end_time": "2020-08-07T02:59:33.449651Z",
     "start_time": "2020-08-07T02:59:33.444654Z"
    }
   },
   "outputs": [],
   "source": [
    "class AddLayer:\n",
    "    def __init__(self):\n",
    "        pass\n",
    "    \n",
    "    def forward(self, x, y):\n",
    "        self.x = x\n",
    "        self.y = y\n",
    "        out = x + y\n",
    "        \n",
    "        return out\n",
    "    \n",
    "    def backward(self, dout):\n",
    "        dx = dout\n",
    "        dy = dout\n",
    "        return dx, dy"
   ]
  },
  {
   "cell_type": "markdown",
   "metadata": {},
   "source": [
    "![fig5-9](dl_images/fig5-9(e).png)"
   ]
  },
  {
   "cell_type": "markdown",
   "metadata": {},
   "source": [
    "### ※ 문제76. (점심시간 문제) 위에서 만든 곱셈 클래스와 덧셈 클래스를 이용해서 그림 5-17의 (p.163) 신경망을 구현하시오\n",
    "![fig5-17](dl_images/fig5-17(e).png)"
   ]
  },
  {
   "cell_type": "code",
   "execution_count": 6,
   "metadata": {
    "ExecuteTime": {
     "end_time": "2020-08-07T03:08:38.675440Z",
     "start_time": "2020-08-07T03:08:38.664447Z"
    }
   },
   "outputs": [
    {
     "name": "stdout",
     "output_type": "stream",
     "text": [
      "715.0000000000001\n"
     ]
    }
   ],
   "source": [
    "class AddLayer:\n",
    "    def __init__(self):\n",
    "        pass\n",
    "    \n",
    "    def forward(self, x, y):\n",
    "        self.x = x\n",
    "        self.y = y\n",
    "        out = x + y\n",
    "        \n",
    "        return out\n",
    "    \n",
    "    def backward(self, dout):\n",
    "        dx = dout\n",
    "        dy = dout\n",
    "        return dx, dy\n",
    "    \n",
    "class MulLayer:\n",
    "    def __init__(self):\n",
    "        self.x = None\n",
    "        self.y = None\n",
    "    \n",
    "    def forward(self, x, y):\n",
    "        self.x = x\n",
    "        self.y = y\n",
    "        out = x * y\n",
    "        \n",
    "        return out\n",
    "    \n",
    "    def backward(self, dout):\n",
    "        dx = dout * self.y\n",
    "        dy = dout * self.x\n",
    "        return dx, dy\n",
    "    \n",
    "add_l = AddLayer()\n",
    "mul_l = MulLayer()\n",
    "apple = 100\n",
    "apple_num = 2\n",
    "orange = 150\n",
    "orange_num = 3\n",
    "tax = 1.1\n",
    "\n",
    "apple_price = mul_l.forward(apple, apple_num)\n",
    "orange_price = mul_l.forward(orange, orange_num)\n",
    "price = add_l.forward(apple_price, orange_price)\n",
    "total = mul_l.forward(price, tax)\n",
    "print(total)"
   ]
  },
  {
   "cell_type": "markdown",
   "metadata": {},
   "source": [
    "### <b>■ 활성화 함수 계층 구현하기 (p.165)</b>\n",
    "    1. 계산 그래프\n",
    "        - 덧셈 그래프\n",
    "        - 곱셈 그래프\n",
    "        - ReLU 함수 그래프\n",
    "        - 시그모이드 함수 그래프\n",
    "        - 교차 엔트로피 오차 함수 그래프(부록)\n",
    "        - 오차제곱합 함수 그래프(부록)\n",
    "        \n",
    "    계산 그래프를 보면서 확인\n",
    "    \n",
    "### <b>■ 활성화 함수 계층 구현하기</b>\n",
    "### □ ReLU 계층 클래스 생성\n",
    "    0보다 큰 값이 입력되면 그 값을 그대로 출력하고 0이거나 0보다 작은 값이 입력되면 0을 출력\n",
    "    \n",
    "    1. copy 모듈 사용법\n",
    "    2. x[x<=0] 의 의미"
   ]
  },
  {
   "cell_type": "code",
   "execution_count": 10,
   "metadata": {
    "ExecuteTime": {
     "end_time": "2020-08-07T05:07:49.934994Z",
     "start_time": "2020-08-07T05:07:49.929999Z"
    }
   },
   "outputs": [
    {
     "name": "stdout",
     "output_type": "stream",
     "text": [
      "[1, 2, 3]\n",
      "[1, 6, 3]\n",
      "[1, 6, 3]\n"
     ]
    }
   ],
   "source": [
    "# 예제1. copy 모듈 사용법\n",
    "a = [1,2,3]\n",
    "b = a\n",
    "print(b)\n",
    "\n",
    "a[1] = 6\n",
    "print(a)\n",
    "print(b) # 같은 메모리의 내용을 보기 때문에 a와 같은 값을 출력"
   ]
  },
  {
   "cell_type": "code",
   "execution_count": 12,
   "metadata": {
    "ExecuteTime": {
     "end_time": "2020-08-07T05:08:40.925313Z",
     "start_time": "2020-08-07T05:08:40.919317Z"
    }
   },
   "outputs": [
    {
     "name": "stdout",
     "output_type": "stream",
     "text": [
      "[1, 2, 3]\n",
      "[1, 6, 3]\n",
      "[1, 2, 3]\n"
     ]
    }
   ],
   "source": [
    "from copy import copy\n",
    "a = [1,2,3]\n",
    "b = a.copy() # b는 별도의 객체\n",
    "print(b)\n",
    "\n",
    "a[1] = 6\n",
    "print(a)\n",
    "print(b)"
   ]
  },
  {
   "cell_type": "code",
   "execution_count": null,
   "metadata": {},
   "outputs": [],
   "source": [
    "# 예제2. x[x<=0]의 의미\n",
    "import numpy as np\n",
    "x = np.array([1.0, -0.5, -2.0, 3.0]).reshape(2,2)\n",
    "print(x)\n",
    "\n",
    "mask = (x<=)"
   ]
  },
  {
   "cell_type": "code",
   "execution_count": null,
   "metadata": {},
   "outputs": [],
   "source": []
  },
  {
   "cell_type": "code",
   "execution_count": null,
   "metadata": {},
   "outputs": [],
   "source": []
  },
  {
   "cell_type": "code",
   "execution_count": null,
   "metadata": {},
   "outputs": [],
   "source": []
  },
  {
   "cell_type": "code",
   "execution_count": null,
   "metadata": {},
   "outputs": [],
   "source": []
  },
  {
   "cell_type": "code",
   "execution_count": null,
   "metadata": {},
   "outputs": [],
   "source": []
  }
 ],
 "metadata": {
  "kernelspec": {
   "display_name": "Python 3",
   "language": "python",
   "name": "python3"
  },
  "language_info": {
   "codemirror_mode": {
    "name": "ipython",
    "version": 3
   },
   "file_extension": ".py",
   "mimetype": "text/x-python",
   "name": "python",
   "nbconvert_exporter": "python",
   "pygments_lexer": "ipython3",
   "version": "3.7.6"
  },
  "toc": {
   "base_numbering": 1,
   "nav_menu": {},
   "number_sections": true,
   "sideBar": true,
   "skip_h1_title": false,
   "title_cell": "Table of Contents",
   "title_sidebar": "Contents",
   "toc_cell": false,
   "toc_position": {},
   "toc_section_display": true,
   "toc_window_display": false
  },
  "varInspector": {
   "cols": {
    "lenName": 16,
    "lenType": 16,
    "lenVar": 40
   },
   "kernels_config": {
    "python": {
     "delete_cmd_postfix": "",
     "delete_cmd_prefix": "del ",
     "library": "var_list.py",
     "varRefreshCmd": "print(var_dic_list())"
    },
    "r": {
     "delete_cmd_postfix": ") ",
     "delete_cmd_prefix": "rm(",
     "library": "var_list.r",
     "varRefreshCmd": "cat(var_dic_list()) "
    }
   },
   "types_to_exclude": [
    "module",
    "function",
    "builtin_function_or_method",
    "instance",
    "_Feature"
   ],
   "window_display": false
  }
 },
 "nbformat": 4,
 "nbformat_minor": 4
}

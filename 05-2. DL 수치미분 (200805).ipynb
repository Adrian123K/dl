{
 "cells": [
  {
   "cell_type": "markdown",
   "metadata": {},
   "source": [
    "### <b>■ 수치미분</b>\n",
    "    진정한 미분은 컴퓨터로 구현할 수 없다."
   ]
  },
  {
   "cell_type": "code",
   "execution_count": 2,
   "metadata": {
    "ExecuteTime": {
     "end_time": "2020-08-05T05:02:45.716586Z",
     "start_time": "2020-08-05T05:02:45.711589Z"
    }
   },
   "outputs": [
    {
     "name": "stdout",
     "output_type": "stream",
     "text": [
      "0.0\n"
     ]
    }
   ],
   "source": [
    "import numpy as np\n",
    "\n",
    "def numerical_diff(f,x):\n",
    "    h = 1e-50\n",
    "    return (f(x+h)-f(x))/h\n",
    "\n",
    "print(np.float32(1e-50))"
   ]
  },
  {
   "cell_type": "markdown",
   "metadata": {},
   "source": [
    "    컴퓨터로 구현하면 분모가 0이 되어 계산이 안된다.\n",
    "    계산되는 근사로 구한 접선으로 수학식을 구현하면\n",
    "$$\\lim_{h->0}{{f(x+h)-f(x-h)}\\over {(x+h)-(x-h)}} \\, = \\lim_{h->0}{{f(x+h)-f(x-h)}\\over {2h}} $$\n",
    "\n",
    "    위의 식을 파이썬으로 구현하면"
   ]
  },
  {
   "cell_type": "code",
   "execution_count": 4,
   "metadata": {
    "ExecuteTime": {
     "end_time": "2020-08-05T05:06:15.673666Z",
     "start_time": "2020-08-05T05:06:15.669670Z"
    }
   },
   "outputs": [],
   "source": [
    "def numerical_diff(f,x):\n",
    "    h = 1e-4\n",
    "    return (f(x+h)-f(x-h))/(2*h)"
   ]
  },
  {
   "cell_type": "markdown",
   "metadata": {},
   "source": [
    "### ※ 문제50. $f(x)=2x^{2}$함수의 $x$가 $3$에서의 미분계수(기울기)를 구하시오"
   ]
  },
  {
   "cell_type": "code",
   "execution_count": 5,
   "metadata": {
    "ExecuteTime": {
     "end_time": "2020-08-05T05:07:22.972867Z",
     "start_time": "2020-08-05T05:07:22.959874Z"
    }
   },
   "outputs": [
    {
     "data": {
      "text/plain": [
       "12.000000000025324"
      ]
     },
     "execution_count": 5,
     "metadata": {},
     "output_type": "execute_result"
    }
   ],
   "source": [
    "def f(x):\n",
    "    return 2*x**2\n",
    "\n",
    "def numerical_diff(f,x):\n",
    "    h = 1e-4\n",
    "    return (f(x+h)-f(x-h))/(2*h)\n",
    "\n",
    "numerical_diff(f,3)"
   ]
  },
  {
   "cell_type": "markdown",
   "metadata": {},
   "source": [
    "### ※ 문제51. 아래의 함수를 생성하고 $x$가 $2$에서의 미분계수(기울기)를 구하시오"
   ]
  },
  {
   "cell_type": "code",
   "execution_count": 7,
   "metadata": {
    "ExecuteTime": {
     "end_time": "2020-08-05T05:15:33.783166Z",
     "start_time": "2020-08-05T05:15:33.776169Z"
    }
   },
   "outputs": [
    {
     "data": {
      "text/plain": [
       "144.00000026014936"
      ]
     },
     "execution_count": 7,
     "metadata": {},
     "output_type": "execute_result"
    }
   ],
   "source": [
    "def f(x):\n",
    "    return 3*x**4 + 2*x**3 + 6*x**2 + 7\n",
    "\n",
    "def numerical_diff(f,x):\n",
    "    h = 1e-4\n",
    "    return (f(x+h)-f(x-h))/(2*h)\n",
    "\n",
    "numerical_diff(f,2)"
   ]
  },
  {
   "cell_type": "markdown",
   "metadata": {},
   "source": [
    "### <b>■ 편미분 (p.125)</b>\n",
    "$$z=x^{2}+y^{2}$$\n",
    "\n",
    "    변수가 2개 이상인 함수를 미분할 때 미분 대상 변수외에 나머지 변수를 상수처럼 고정시켜 미분하는 것"
   ]
  },
  {
   "cell_type": "markdown",
   "metadata": {},
   "source": [
    "### ※ 문제52. 손으로 아래의 함수를 편미분하시오\n",
    "$$f(x_{0},x_{1})=x_{0}^2+x_{1}^2$$\n",
    "<center><b> $x_{0}=3, \\, x_{1}=4$ 일 때 , $x_{0}$에 대해 편미분하시오</b></center>\n",
    "\n",
    "$${{\\partial f}\\over {\\partial x_{0}}} = 2x_{0}, \\; {{\\partial f}\\over {\\partial x_{1}}} = 2x_{1}$$"
   ]
  },
  {
   "cell_type": "markdown",
   "metadata": {},
   "source": [
    "### ※ 문제53. 아래의 수학식의 오차함수를 생성하시오\n",
    "$$f(x_{0},x_{1})=x_{0}^2+x_{1}^2$$"
   ]
  },
  {
   "cell_type": "code",
   "execution_count": 8,
   "metadata": {
    "ExecuteTime": {
     "end_time": "2020-08-05T05:37:47.698955Z",
     "start_time": "2020-08-05T05:37:47.679966Z"
    }
   },
   "outputs": [
    {
     "data": {
      "text/plain": [
       "25.0"
      ]
     },
     "execution_count": 8,
     "metadata": {},
     "output_type": "execute_result"
    }
   ],
   "source": [
    "import numpy as np\n",
    "\n",
    "x = np.array([3.0, 4.0])\n",
    "\n",
    "def numerical_diff(f,x):\n",
    "    h = 1e-4\n",
    "    return (f(x+h)-f(x-h))/(2*h)\n",
    "\n",
    "def loss_func(x):\n",
    "    return x[0]**2+x[1]**2\n",
    "\n",
    "loss_func(x)"
   ]
  },
  {
   "cell_type": "markdown",
   "metadata": {},
   "source": [
    "### ※ 문제54. 위의 loss_func() 함수를 $x_{0}=3, \\; x_{1}=4$ 에서 $x_{0}$에서 편미분 했을 때의 기울기는?"
   ]
  },
  {
   "cell_type": "code",
   "execution_count": 23,
   "metadata": {
    "ExecuteTime": {
     "end_time": "2020-08-05T06:06:41.319160Z",
     "start_time": "2020-08-05T06:06:41.309165Z"
    }
   },
   "outputs": [
    {
     "data": {
      "text/plain": [
       "6.00000000000378"
      ]
     },
     "execution_count": 23,
     "metadata": {},
     "output_type": "execute_result"
    }
   ],
   "source": [
    "import numpy as np\n",
    "\n",
    "x = np.array([3.0, 4.0])\n",
    "\n",
    "def numerical_diff(f,x):\n",
    "    h = 1e-4\n",
    "    return (f(x+h)-f(x-h))/(2*h)\n",
    "\n",
    "def f(x):\n",
    "    return x[0]**2 + x[1]**2\n",
    "\n",
    "def loss_func(x):\n",
    "    return x[0]**2+x[1]**2\n",
    "\n",
    "def function_tmp1(x0):\n",
    "    return x0**2 + 4**2\n",
    "\n",
    "def function_tmp2(x1):\n",
    "    return 3**2 + x1**2\n",
    "\n",
    "numerical_diff(function_tmp1, 3)"
   ]
  },
  {
   "cell_type": "markdown",
   "metadata": {},
   "source": [
    "    위의 편미분 방법은 손으로 나머지 하나를 상수화 시켜서 강제로 구현한 코드이므로 파이썬으로 알아서 편미분 하도록 함수를 생성하시오"
   ]
  },
  {
   "cell_type": "markdown",
   "metadata": {},
   "source": [
    "### <b>■ 편미분하는 함수 numerical_gradient 만들기</b>"
   ]
  },
  {
   "cell_type": "code",
   "execution_count": 25,
   "metadata": {
    "ExecuteTime": {
     "end_time": "2020-08-05T06:07:56.992056Z",
     "start_time": "2020-08-05T06:07:56.980062Z"
    }
   },
   "outputs": [
    {
     "data": {
      "text/plain": [
       "array([6., 8.])"
      ]
     },
     "execution_count": 25,
     "metadata": {},
     "output_type": "execute_result"
    }
   ],
   "source": [
    "import numpy  as  np\n",
    "\n",
    "def f(x):\n",
    "    return x[0]**2 + x[1]**2\n",
    "\n",
    "def loss_func(x):\n",
    "    return x[0]**2+x[1]**2\n",
    "\n",
    "def  numerical_gradient(f,x):\n",
    "    h = 1e-04\n",
    "    grad = np.zeros_like(x) \n",
    "    \n",
    "    for  i  in  range(x.size):\n",
    "        tmp_val = x[i] \n",
    "        \n",
    "        x[i] = tmp_val + h  \n",
    "        fxh1 = f(x) \n",
    "\n",
    "        x[i] = tmp_val - h                          \n",
    "        fxh2 = f(x)  \n",
    "        \n",
    "        grad[i] = ( fxh1 - fxh2 ) / (2*h)          \n",
    "        \n",
    "        x[i] = tmp_val  \n",
    "\n",
    "    return  grad \n",
    "\n",
    "x = np.array([3.0, 4.0])\n",
    "numerical_gradient(loss_func, x)"
   ]
  },
  {
   "cell_type": "markdown",
   "metadata": {},
   "source": [
    "### ※ 문제55. 위의 $i$가 0번째일 때의 디버깅 처럼 $i$가 1번째도 디버깅 하시오"
   ]
  },
  {
   "cell_type": "code",
   "execution_count": null,
   "metadata": {},
   "outputs": [],
   "source": [
    "import numpy  as  np\n",
    "\n",
    "def f(x):\n",
    "    return x[0] ** 2 + x[1] ** 2\n",
    "\n",
    "def loss_func(x):\n",
    "    return x[0] ** 2 + x[1] ** 2\n",
    "\n",
    "def numerical_gradient(f, x):\n",
    "    h = 1e-04\n",
    "    grad = np.zeros_like(x)\n",
    "\n",
    "    for i in range(x.size): # i : 1\n",
    "        tmp_val = x[i] # tmp_val : 4.0\n",
    "\n",
    "        x[i] = tmp_val + h # x[1] = 4.0001\n",
    "        fxh1 = f(x) # fxh1 : 9 + 16.0001 = 25.0008\n",
    "\n",
    "        x[i] = tmp_val - h # x1 = 3.9999\n",
    "        fxh2 = f(x) # fxh2 : 9 + 15.9992 = 24.9992\n",
    "\n",
    "        grad[i] = (fxh1 - fxh2) / (2 * h) # grad[1] = (25.0008 - 24.9992) / 0.0002 = 8.0\n",
    "\n",
    "        x[i] = tmp_val # x[1] : 4.0\n",
    "\n",
    "    return grad\n",
    "\n",
    "x = np.array([3.0, 4.0])\n",
    "print(numerical_gradient(loss_func, x))"
   ]
  },
  {
   "cell_type": "code",
   "execution_count": null,
   "metadata": {},
   "outputs": [],
   "source": []
  },
  {
   "cell_type": "code",
   "execution_count": null,
   "metadata": {},
   "outputs": [],
   "source": []
  }
 ],
 "metadata": {
  "kernelspec": {
   "display_name": "Python 3",
   "language": "python",
   "name": "python3"
  },
  "language_info": {
   "codemirror_mode": {
    "name": "ipython",
    "version": 3
   },
   "file_extension": ".py",
   "mimetype": "text/x-python",
   "name": "python",
   "nbconvert_exporter": "python",
   "pygments_lexer": "ipython3",
   "version": "3.7.6"
  },
  "toc": {
   "base_numbering": 1,
   "nav_menu": {},
   "number_sections": true,
   "sideBar": true,
   "skip_h1_title": false,
   "title_cell": "Table of Contents",
   "title_sidebar": "Contents",
   "toc_cell": false,
   "toc_position": {},
   "toc_section_display": true,
   "toc_window_display": false
  },
  "varInspector": {
   "cols": {
    "lenName": 16,
    "lenType": 16,
    "lenVar": 40
   },
   "kernels_config": {
    "python": {
     "delete_cmd_postfix": "",
     "delete_cmd_prefix": "del ",
     "library": "var_list.py",
     "varRefreshCmd": "print(var_dic_list())"
    },
    "r": {
     "delete_cmd_postfix": ") ",
     "delete_cmd_prefix": "rm(",
     "library": "var_list.r",
     "varRefreshCmd": "cat(var_dic_list()) "
    }
   },
   "types_to_exclude": [
    "module",
    "function",
    "builtin_function_or_method",
    "instance",
    "_Feature"
   ],
   "window_display": false
  }
 },
 "nbformat": 4,
 "nbformat_minor": 4
}

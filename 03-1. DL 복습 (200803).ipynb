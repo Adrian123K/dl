{
 "cells": [
  {
   "cell_type": "markdown",
   "metadata": {},
   "source": [
    "## <b>■ 복습</b>\n",
    "    1장. Numpy\n",
    "        ① 왜 신경망에서 사용하는가?(면접문제)\n",
    "            행렬의 고속연산에 최적화된 모듈\n",
    "        ② 브로드캐스트(BroadCast)\n",
    "            형상이 다른 배열끼리 계산을 가능하게 해주는 기능\n",
    "    2장. 퍼셉트론(Perceptron) : 인간의 뇌세포 하나를 컴퓨터로 재현\n",
    "![fig2-6](dl_images/fig2-6(e).png)\n",
    "<center><b> OR 게이트</b></center>\n",
    "<br>\n",
    "\n",
    "    3장. 신경망\n",
    "![fig3-1](dl_images/fig3-1(e).png)\n",
    "\n",
    "    Bias (신경망 x0) : 뉴런을 얼마나 잘 활성화 할지를 조정하는 것\n",
    "    활성화함수 : 입력신호의 총 합을 계산하여 신호를 보낼지 말지 결정하는 함수\n",
    "                입력신호의 총 합을 계산하여 신호를 약하게 보낼지 강하게 보낼지 결정하는 함수\n",
    "        ① 계단함수 : 0 또는 1\n",
    "        ② 시그모이드 : 0 ~ 1 사이의 실수 값\n",
    "        ③ ReLU : 입력값을 그대로 보내는 함수. 음수 값은 보내지 않음.\n",
    "        \n",
    "    출력층함수 : 앞의 신호를 받아서 결론을 내주는 함수\n",
    "        ① 항등함수\n",
    "        ② 소프트맥스(softmax)\n",
    "    오차함수 : 신경망의 잘못을 오차로 깨닫게 해주는 함수\n",
    "        - 교차 엔트로피(Cross Entropy func.)\n",
    "$$t-y \\\\ t: target, \\, y: 예측 \\\\ y=[0.8 \\; 0.2] \\\\ t=[1 \\; 0] $$\n",
    "\n",
    "## <b>■ 시그모이드 함수의 유래</b>\n",
    "    왜 수학스터디 때 지수함수, 로그함수 미분을 배워야 했나?\n",
    "    "
   ]
  },
  {
   "cell_type": "code",
   "execution_count": null,
   "metadata": {},
   "outputs": [],
   "source": []
  },
  {
   "cell_type": "code",
   "execution_count": null,
   "metadata": {},
   "outputs": [],
   "source": []
  },
  {
   "cell_type": "code",
   "execution_count": null,
   "metadata": {},
   "outputs": [],
   "source": []
  },
  {
   "cell_type": "code",
   "execution_count": null,
   "metadata": {},
   "outputs": [],
   "source": []
  },
  {
   "cell_type": "code",
   "execution_count": null,
   "metadata": {},
   "outputs": [],
   "source": []
  },
  {
   "cell_type": "code",
   "execution_count": null,
   "metadata": {},
   "outputs": [],
   "source": []
  }
 ],
 "metadata": {
  "kernelspec": {
   "display_name": "Python 3",
   "language": "python",
   "name": "python3"
  },
  "language_info": {
   "codemirror_mode": {
    "name": "ipython",
    "version": 3
   },
   "file_extension": ".py",
   "mimetype": "text/x-python",
   "name": "python",
   "nbconvert_exporter": "python",
   "pygments_lexer": "ipython3",
   "version": "3.7.6"
  },
  "toc": {
   "base_numbering": 1,
   "nav_menu": {},
   "number_sections": true,
   "sideBar": true,
   "skip_h1_title": false,
   "title_cell": "Table of Contents",
   "title_sidebar": "Contents",
   "toc_cell": false,
   "toc_position": {},
   "toc_section_display": true,
   "toc_window_display": false
  },
  "varInspector": {
   "cols": {
    "lenName": 16,
    "lenType": 16,
    "lenVar": 40
   },
   "kernels_config": {
    "python": {
     "delete_cmd_postfix": "",
     "delete_cmd_prefix": "del ",
     "library": "var_list.py",
     "varRefreshCmd": "print(var_dic_list())"
    },
    "r": {
     "delete_cmd_postfix": ") ",
     "delete_cmd_prefix": "rm(",
     "library": "var_list.r",
     "varRefreshCmd": "cat(var_dic_list()) "
    }
   },
   "types_to_exclude": [
    "module",
    "function",
    "builtin_function_or_method",
    "instance",
    "_Feature"
   ],
   "window_display": false
  }
 },
 "nbformat": 4,
 "nbformat_minor": 4
}

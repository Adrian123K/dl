{
 "cells": [
  {
   "cell_type": "markdown",
   "metadata": {},
   "source": [
    "## <b>■ 복습</b>\n",
    "    1장\n",
    "    2장\n",
    "    3장\n",
    "    4장\n",
    "    5장\n",
    "    6장\n",
    "    7장. CNN + Fully Connected\n",
    "        Image -----> Convolution ----------------> Pooling ----------------> Fully Connected\n",
    "                     여러개의 Feature map           Feature map 선명하게             분류\n",
    "                     이미지의 특징 추출\n",
    "                              ↓                            ↓                       ↓\n",
    "                     Convolution class 생성         Pooling class 생성        5장 오차역전파 3층 신경망  \n",
    "    \n",
    "    8장. 딥러닝의 역사\n",
    "![hist](http://cfile252.uf.daum.net/image/992CCB4F5F3472F40F4BEF)\n",
    "![hist2](http://cfile253.uf.daum.net/image/9969A7455F3473150F3FDF)\n",
    "\n",
    "## <b>■ 밑바닥 딥러닝 책 최종 스크립트의 큰 그림</b>\n",
    "### <b>□ 필기체 데이터를 CNN 신경망에 넣어서 학습시키는 그림</b>\n",
    "![learn1](learn1.png)\n",
    "![learn2](http://cfile249.uf.daum.net/image/99BA49355F3465D00CD4EA)"
   ]
  },
  {
   "cell_type": "markdown",
   "metadata": {
    "ExecuteTime": {
     "end_time": "2020-08-13T02:01:50.555036Z",
     "start_time": "2020-08-13T02:01:50.529051Z"
    }
   },
   "source": [
    "<b>첫번째 그림</b>\n",
    "#### 예제1. 28x28 필기체 데이터 100장을 생성"
   ]
  },
  {
   "cell_type": "code",
   "execution_count": 8,
   "metadata": {
    "ExecuteTime": {
     "end_time": "2020-08-13T02:06:55.424832Z",
     "start_time": "2020-08-13T02:06:55.417835Z"
    },
    "scrolled": true
   },
   "outputs": [
    {
     "name": "stdout",
     "output_type": "stream",
     "text": [
      "(100, 1, 28, 28)\n"
     ]
    }
   ],
   "source": [
    "import numpy as np\n",
    "x = np.random.randn(100,1,28,28)\n",
    "print(x.shape)"
   ]
  },
  {
   "cell_type": "markdown",
   "metadata": {},
   "source": [
    "#### 예제2. 5x5 필터 30장 생성"
   ]
  },
  {
   "cell_type": "code",
   "execution_count": 3,
   "metadata": {
    "ExecuteTime": {
     "end_time": "2020-08-13T02:03:33.445138Z",
     "start_time": "2020-08-13T02:03:33.440142Z"
    }
   },
   "outputs": [
    {
     "name": "stdout",
     "output_type": "stream",
     "text": [
      "(30, 1, 5, 5)\n"
     ]
    }
   ],
   "source": [
    "w1 = np.random.randn(30,1,5,5)\n",
    "print(w1.shape)"
   ]
  },
  {
   "cell_type": "markdown",
   "metadata": {},
   "source": [
    "#### 예제3. 위에서 만든 입력값 x와 필터 w1을 합성곱한 feature map을 생성하고 shape를 확인하시오"
   ]
  },
  {
   "cell_type": "code",
   "execution_count": 4,
   "metadata": {
    "ExecuteTime": {
     "end_time": "2020-08-13T02:05:59.112757Z",
     "start_time": "2020-08-13T02:05:59.097767Z"
    }
   },
   "outputs": [],
   "source": [
    "def im2col(input_data, filter_h, filter_w, stride=1, pad=0):\n",
    "    N, C, H, W = input_data.shape\n",
    "    out_h = (H + 2 * pad - filter_h) // stride + 1\n",
    "    out_w = (W + 2 * pad - filter_w) // stride + 1\n",
    "\n",
    "    img = np.pad(input_data, [(0, 0), (0, 0), (pad, pad), (pad, pad)], 'constant')\n",
    "    col = np.zeros((N, C, filter_h, filter_w, out_h, out_w))\n",
    "\n",
    "    for y in range(filter_h):\n",
    "        y_max = y + stride * out_h\n",
    "        for x in range(filter_w):\n",
    "            x_max = x + stride * out_w\n",
    "            col[:, :, y, x, :, :] = img[:, :, y:y_max:stride, x:x_max:stride]\n",
    "\n",
    "    col = col.transpose(0, 4, 5, 1, 2, 3).reshape(N * out_h * out_w, -1)\n",
    "    return col\n",
    "\n",
    "class Convolution:\n",
    "    def __init__(self, W, b, stride=1, pad=0):\n",
    "        self.W = W\n",
    "        self.b = b\n",
    "        self.stride = stride\n",
    "        self.pad = pad\n",
    "        \n",
    "    def forward(self, x):\n",
    "        FN, C, FH, FW = self.W.shape\n",
    "        N, C, H, W = x.shape\n",
    "        out_h = int(1+ (H+ 2*self.pad - FH) / self.stride)\n",
    "        out_w = int(1+ (W+ 2*self.pad - FW) / self.stride)\n",
    "        \n",
    "        col = im2col(x, FH, FW, self.stride, self.pad)\n",
    "        col_W = self.W.reshape(FN, -1).T\n",
    "        out = np.dot(col, col_W) + self.b\n",
    "        \n",
    "        out = out.reshape(N, out_h, out_w, -1).transpose(0,3,1,2)\n",
    "        \n",
    "        return out"
   ]
  },
  {
   "cell_type": "code",
   "execution_count": 10,
   "metadata": {
    "ExecuteTime": {
     "end_time": "2020-08-13T02:09:39.935089Z",
     "start_time": "2020-08-13T02:09:39.893116Z"
    }
   },
   "outputs": [
    {
     "name": "stdout",
     "output_type": "stream",
     "text": [
      "(100, 30, 24, 24)\n"
     ]
    }
   ],
   "source": [
    "b1 = 1\n",
    "con = Convolution(w1, b1)\n",
    "feature_map = con.forward(x)\n",
    "print(feature_map.shape)"
   ]
  },
  {
   "cell_type": "markdown",
   "metadata": {},
   "source": [
    "#### 예제4. Convolution 계층을 통과한 output을 pooling 계층에 통과시키고 나온 output 사이즈를 확인하시오"
   ]
  },
  {
   "cell_type": "code",
   "execution_count": 11,
   "metadata": {
    "ExecuteTime": {
     "end_time": "2020-08-13T02:12:32.005939Z",
     "start_time": "2020-08-13T02:12:31.996945Z"
    }
   },
   "outputs": [],
   "source": [
    "class Pooling:\n",
    "    def __init__(self, pool_h, pool_w, stride=1, pad=0):\n",
    "        self.pool_h = pool_h\n",
    "        self.pool_w = pool_w\n",
    "        self.stride = stride\n",
    "        self.pad = pad\n",
    "\n",
    "    def forward(self, x):\n",
    "        N, C, H, W = x.shape\n",
    "        out_h = int(1 + (H - self.pool_h) / self.stride)\n",
    "        out_w = int(1 + (W - self.pool_w) / self.stride)\n",
    "\n",
    "        col = im2col(x, self.pool_h, self.pool_w, self.stride, self.pad)\n",
    "        col = col.reshape(-1, self.pool_h*self.pool_w)\n",
    "        \n",
    "        out = np.max(col, axis=1)\n",
    "        out = out.reshape(N, out_h, out_w, C).transpose(0, 3, 1, 2)\n",
    "\n",
    "        return out"
   ]
  },
  {
   "cell_type": "code",
   "execution_count": 12,
   "metadata": {
    "ExecuteTime": {
     "end_time": "2020-08-13T02:17:13.187014Z",
     "start_time": "2020-08-13T02:17:13.132049Z"
    }
   },
   "outputs": [
    {
     "name": "stdout",
     "output_type": "stream",
     "text": [
      "(100, 30, 12, 12)\n"
     ]
    }
   ],
   "source": [
    "pool = Pooling(2,2,stride=2)\n",
    "pool_out = pool.forward(feature_map)\n",
    "print(pool_out.shape)"
   ]
  },
  {
   "cell_type": "markdown",
   "metadata": {},
   "source": [
    "#### 예제5. 위의 pooling계층을 통과한 출력 데이터가 완전 연결계층에 들어가서 가중치와 내적할 수 있도록 가중치 w2를 생성하시오"
   ]
  },
  {
   "cell_type": "code",
   "execution_count": 14,
   "metadata": {
    "ExecuteTime": {
     "end_time": "2020-08-13T02:21:41.828693Z",
     "start_time": "2020-08-13T02:21:41.807706Z"
    }
   },
   "outputs": [],
   "source": [
    "w2 = np.random.randn(30*12*12, 100)"
   ]
  },
  {
   "cell_type": "markdown",
   "metadata": {},
   "source": [
    "#### 예제6. 완전 연결계층의 w2와 내적한 후 더하기 할 b2를 생성하시오"
   ]
  },
  {
   "cell_type": "code",
   "execution_count": 13,
   "metadata": {
    "ExecuteTime": {
     "end_time": "2020-08-13T02:21:07.210218Z",
     "start_time": "2020-08-13T02:21:07.205221Z"
    }
   },
   "outputs": [],
   "source": [
    "b2 = np.zeros(100)"
   ]
  },
  {
   "cell_type": "markdown",
   "metadata": {},
   "source": [
    "#### 예제7. 완전연결 계층의 마지막 출력층인 w3와 b3를 각각 생성하시오"
   ]
  },
  {
   "cell_type": "code",
   "execution_count": 17,
   "metadata": {
    "ExecuteTime": {
     "end_time": "2020-08-13T02:31:46.707922Z",
     "start_time": "2020-08-13T02:31:46.701926Z"
    }
   },
   "outputs": [
    {
     "name": "stdout",
     "output_type": "stream",
     "text": [
      "(100, 10)\n"
     ]
    }
   ],
   "source": [
    "w3 = np.random.randn(100,10)\n",
    "b3 = np.zeros(10)\n",
    "print(w3.shape)"
   ]
  },
  {
   "cell_type": "markdown",
   "metadata": {},
   "source": [
    "#### 예제8. pooling층을 통과한 pool_out이 완전연결계층으로 들어가서 나온 결과 shape를 출력하시오"
   ]
  },
  {
   "cell_type": "code",
   "execution_count": 19,
   "metadata": {
    "ExecuteTime": {
     "end_time": "2020-08-13T02:32:24.517809Z",
     "start_time": "2020-08-13T02:32:24.507814Z"
    }
   },
   "outputs": [
    {
     "name": "stdout",
     "output_type": "stream",
     "text": [
      "(100, 10)\n"
     ]
    }
   ],
   "source": [
    "pool_out2 = pool_out.reshape(100,-1)\n",
    "fully_out1 = np.dot(pool_out2, w2) + b2\n",
    "fully_out2 = np.dot(fully_out1, w3) + b3\n",
    "print(fully_out2.shape)"
   ]
  },
  {
   "cell_type": "markdown",
   "metadata": {},
   "source": [
    "## <b>■ CNN을 사용한 신경망 전체 코드</b>\n",
    "    밑바닥부터 시작하는 딥러닝 최종 스크립트의 큰 설계도\n",
    "        이미지 --------> Convolution --------> Pooling --------> Affine1 --------> Affine2 --------> 분류결과\n",
    "                            1층                                    2층               3층"
   ]
  },
  {
   "cell_type": "code",
   "execution_count": null,
   "metadata": {},
   "outputs": [],
   "source": [
    "# coding: utf-8\n",
    "import sys, os\n",
    "sys.path.append(os.pardir)  # 부모 디렉터리의 파일을 가져올 수 있도록 설정\n",
    "import pickle\n",
    "import numpy as np\n",
    "from collections import OrderedDict\n",
    "from common.layers import *\n",
    "from common.gradient import numerical_gradient\n",
    "import matplotlib.pyplot as plt\n",
    "from dataset.mnist import load_mnist\n",
    "from common.trainer import Trainer\n",
    "\n",
    "class SimpleConvNet:\n",
    "    \"\"\"단순한 합성곱 신경망\n",
    "\n",
    "    conv - relu - pool - affine - relu - affine - softmax\n",
    "\n",
    "    Parameters\n",
    "    ----------\n",
    "    input_size : 입력 크기（MNIST의 경우엔 784）\n",
    "    hidden_size_list : 각 은닉층의 뉴런 수를 담은 리스트（e.g. [100, 100, 100]）\n",
    "    output_size : 출력 크기（MNIST의 경우엔 10）\n",
    "    activation : 활성화 함수 - 'relu' 혹은 'sigmoid'                                        \n",
    "    weight_init_std : 가중치의 표준편차 지정（e.g. 0.01）\n",
    "        'relu'나 'he'로 지정하면 'He 초깃값'으로 설정\n",
    "        'sigmoid'나 'xavier'로 지정하면 'Xavier 초깃값'으로 설정\n",
    "    \"\"\"\n",
    "    ###############################\n",
    "    def __init__(self, input_dim=(1, 28, 28),\n",
    "                 conv_param={'filter_num': 30, 'filter_size': 5, 'pad': 0, 'stride': 1},\n",
    "                 hidden_size=100, output_size=10, weight_init_std=0.01):\n",
    "    ###############################\n",
    "        filter_num = conv_param['filter_num']  # 30\n",
    "        filter_size = conv_param['filter_size']    #  5\n",
    "        filter_pad = conv_param['pad']   # 0\n",
    "        filter_stride = conv_param['stride']  # 1\n",
    "        input_size = input_dim[1]             # 28\n",
    "        conv_output_size = (input_size - filter_size + 2 * filter_pad) / filter_stride + 1 # 24\n",
    "        pool_output_size = int(filter_num * (conv_output_size / 2) * (conv_output_size / 2))\n",
    "                                     #   30  *  12  * 12 \n",
    "        # conv_output_size와 pool_output_size는 완전연결계층에서 가중치 W2를 생성하기 위해 필요\n",
    "        # 가중치 초기화\n",
    "        self.params = {}\n",
    "        self.params['W1'] = weight_init_std * \\\n",
    "                            np.random.randn(filter_num, input_dim[0], filter_size, filter_size)\n",
    "               # 0.01 *  np.random.rand ( 30, 1, 5, 5 ) \n",
    "        self.params['b1'] = np.zeros(filter_num)  #  30 \n",
    "        self.params['W2'] = weight_init_std * \\\n",
    "                            np.random.randn(pool_output_size, hidden_size)\n",
    "              # 0.01 * np.random.randn( 30 * 12 * 12, 100 )\n",
    "        self.params['b2'] = np.zeros(hidden_size)  # 100 \n",
    "        self.params['W3'] = weight_init_std * \\\n",
    "                            np.random.randn(hidden_size, output_size)\n",
    "             #  0.01 * np.random.randn( 100, 10 ) \n",
    "        self.params['b3'] = np.zeros(output_size)  # 10 \n",
    "\n",
    "        # 계층 생성\n",
    "        self.layers = OrderedDict()\n",
    "        \n",
    "        ######################################\n",
    "        self.layers['Conv1'] = Convolution(self.params['W1'], self.params['b1'],\n",
    "                                           conv_param['stride'], conv_param['pad'])\n",
    "        self.layers['Relu1'] = Relu()\n",
    "        self.layers['Pool1'] = Pooling(pool_h=2, pool_w=2, stride=2)\n",
    "        ######################################\n",
    "        \n",
    "        self.layers['Affine1'] = Affine(self.params['W2'], self.params['b2'])\n",
    "        self.layers['Relu2'] = Relu()\n",
    "        self.layers['Affine2'] = Affine(self.params['W3'], self.params['b3'])\n",
    "\n",
    "        self.last_layer = SoftmaxWithLoss()\n",
    "\n",
    "    def predict(self, x):\n",
    "        for layer in self.layers.values():\n",
    "            x = layer.forward(x)\n",
    "\n",
    "        return x\n",
    "\n",
    "    def loss(self, x, t):\n",
    "        \"\"\"손실 함수를 구한다.\n",
    "\n",
    "        Parameters\n",
    "        ----------\n",
    "        x : 입력 데이터\n",
    "        t : 정답 레이블\n",
    "        \"\"\"\n",
    "        y = self.predict(x)\n",
    "        return self.last_layer.forward(y, t)\n",
    "\n",
    "    def accuracy(self, x, t, batch_size=100):\n",
    "        if t.ndim != 1: t = np.argmax(t, axis=1)\n",
    "\n",
    "        acc = 0.0\n",
    "\n",
    "        for i in range(int(x.shape[0] / batch_size)):\n",
    "            tx = x[i * batch_size:(i + 1) * batch_size]\n",
    "            tt = t[i * batch_size:(i + 1) * batch_size]\n",
    "            y = self.predict(tx)\n",
    "            y = np.argmax(y, axis=1)\n",
    "            acc += np.sum(y == tt)\n",
    "\n",
    "        return acc / x.shape[0]\n",
    "\n",
    "    def numerical_gradient(self, x, t):\n",
    "        \"\"\"기울기를 구한다（수치미분）.\n",
    "\n",
    "        Parameters\n",
    "        ----------\n",
    "        x : 입력 데이터\n",
    "        t : 정답 레이블\n",
    "\n",
    "        Returns\n",
    "        -------\n",
    "        각 층의 기울기를 담은 사전(dictionary) 변수\n",
    "            grads['W1']、grads['W2']、... 각 층의 가중치\n",
    "            grads['b1']、grads['b2']、... 각 층의 편향\n",
    "        \"\"\"\n",
    "        loss_w = lambda w: self.loss(x, t)\n",
    "\n",
    "        grads = {}\n",
    "        for idx in (1, 2, 3):\n",
    "            grads['W' + str(idx)] = numerical_gradient(loss_w, self.params['W' + str(idx)])\n",
    "            grads['b' + str(idx)] = numerical_gradient(loss_w, self.params['b' + str(idx)])\n",
    "\n",
    "        return grads\n",
    "\n",
    "    def gradient(self, x, t):\n",
    "        \"\"\"기울기를 구한다(오차역전파법).\n",
    "\n",
    "        Parameters\n",
    "        ----------\n",
    "        x : 입력 데이터\n",
    "        t : 정답 레이블\n",
    "\n",
    "        Returns\n",
    "        -------\n",
    "        각 층의 기울기를 담은 사전(dictionary) 변수\n",
    "            grads['W1']、grads['W2']、... 각 층의 가중치\n",
    "            grads['b1']、grads['b2']、... 각 층의 편향\n",
    "        \"\"\"\n",
    "        # forward\n",
    "        self.loss(x, t)\n",
    "\n",
    "        # backward\n",
    "        dout = 1\n",
    "        dout = self.last_layer.backward(dout)\n",
    "\n",
    "        layers = list(self.layers.values())\n",
    "        layers.reverse()\n",
    "        for layer in layers:\n",
    "            dout = layer.backward(dout)\n",
    "\n",
    "        # 결과 저장\n",
    "        grads = {}\n",
    "        #########################\n",
    "        grads['W1'], grads['b1'] = self.layers['Conv1'].dW, self.layers['Conv1'].db\n",
    "        #########################\n",
    "        grads['W2'], grads['b2'] = self.layers['Affine1'].dW, self.layers['Affine1'].db\n",
    "        grads['W3'], grads['b3'] = self.layers['Affine2'].dW, self.layers['Affine2'].db\n",
    "\n",
    "        return grads\n",
    "\n",
    "    def save_params(self, file_name=\"params.pkl\"):\n",
    "        params = {}\n",
    "        for key, val in self.params.items():\n",
    "            params[key] = val\n",
    "        with open(file_name, 'wb') as f:\n",
    "            pickle.dump(params, f)\n",
    "\n",
    "    def load_params(self, file_name=\"params.pkl\"):\n",
    "        with open(file_name, 'rb') as f:\n",
    "            params = pickle.load(f)\n",
    "        for key, val in params.items():\n",
    "            self.params[key] = val\n",
    "\n",
    "        for i, key in enumerate(['Conv1', 'Affine1', 'Affine2']):\n",
    "            self.layers[key].W = self.params['W' + str(i + 1)]\n",
    "            self.layers[key].b = self.params['b' + str(i + 1)]\n",
    "\n",
    "# 데이터 읽기\n",
    "(x_train, t_train), (x_test, t_test) = load_mnist(flatten=False)\n",
    "\n",
    "# 시간이 오래 걸릴 경우 데이터를 줄인다.\n",
    "# x_train, t_train = x_train[:5000], t_train[:5000]\n",
    "# x_test, t_test = x_test[:1000], t_test[:1000]\n",
    "\n",
    "max_epochs = 20\n",
    "\n",
    "network = SimpleConvNet(input_dim=(1, 28, 28),\n",
    "                        conv_param={'filter_num': 30, 'filter_size': 5, 'pad': 0, 'stride': 1},\n",
    "                        hidden_size=100, output_size=10, weight_init_std=0.01)\n",
    "\n",
    "# 매개변수 보존\n",
    "network.save_params(\"params.pkl\")\n",
    "print(\"Saved Network Parameters!\")\n",
    "\n",
    "# 하이퍼파라미터\n",
    "iters_num = 10000  # 반복 횟수를 적절히 설정한다.\n",
    "train_size = x_train.shape[0] # 60000 개\n",
    "batch_size = 100  # 미니배치 크기\n",
    "learning_rate = 0.1\n",
    "train_loss_list = []\n",
    "train_acc_list = []\n",
    "test_acc_list = []\n",
    "\n",
    "# 1에폭당 반복 수\n",
    "iter_per_epoch = max(train_size / batch_size, 1)\n",
    "print(iter_per_epoch) # 600\n",
    "\n",
    "for i in range(iters_num): # 10000\n",
    "    # 미니배치 획득  # 랜덤으로 100개씩 뽑아서 10000번을 수행하니까 백만번\n",
    "    batch_mask = np.random.choice(train_size, batch_size) # 100개 씩 뽑아서 10000번 백만번\n",
    "    x_batch = x_train[batch_mask]\n",
    "    t_batch = t_train[batch_mask]\n",
    "\n",
    "    # 기울기 계산\n",
    "    #grad = network.numerical_gradient(x_batch, t_batch)\n",
    "    grad = network.gradient(x_batch, t_batch)\n",
    "    # 매개변수 갱신\n",
    "\n",
    "    for key in ('W1', 'b1', 'W2', 'b2'):\n",
    "        network.params[key] -= learning_rate * grad[key]\n",
    "\n",
    "    # 학습 경과 기록\n",
    "    loss = network.loss(x_batch, t_batch)\n",
    "    train_loss_list.append(loss) # cost 가 점점 줄어드는것을 보려고\n",
    "    # 1에폭당 정확도 계산 # 여기는 훈련이 아니라 1에폭 되었을때 정확도만 체크\n",
    "\n",
    "    if i % iter_per_epoch == 0: # 600 번마다 정확도 쌓는다.\n",
    "        print(x_train.shape) # 60000,784\n",
    "        train_acc = network.accuracy(x_train, t_train)\n",
    "        test_acc = network.accuracy(x_test, t_test)\n",
    "        train_acc_list.append(train_acc) # 10000/600 개  16개 # 정확도가 점점 올라감\n",
    "        test_acc_list.append(test_acc)  # 10000/600 개 16개 # 정확도가 점점 올라감\n",
    "        print(\"train acc, test acc | \" + str(train_acc) + \", \" + str(test_acc))\n",
    "\n",
    "# 그래프 그리기\n",
    "markers = {'train': 'o', 'test': 's'}\n",
    "x = np.arange(len(train_acc_list))\n",
    "plt.plot(x, train_acc_list, label='train acc')\n",
    "plt.plot(x, test_acc_list, label='test acc', linestyle='--')\n",
    "plt.xlabel(\"epochs\")\n",
    "plt.ylabel(\"accuracy\")\n",
    "plt.ylim(0, 1.0)\n",
    "plt.legend(loc='lower right')\n",
    "plt.show()"
   ]
  },
  {
   "cell_type": "markdown",
   "metadata": {},
   "source": [
    "### ※ 문제108. 위의 cnn을 모함한 신경망 코드의 설계도를 아래와 같이 변경하고 학습시키시오\n",
    "    이미지 -------> conv1 -------> ReLU -------> pooling -------> Affine1 \n",
    "                   (W1: 32)                                      (W2: 50)"
   ]
  },
  {
   "cell_type": "code",
   "execution_count": 20,
   "metadata": {
    "ExecuteTime": {
     "end_time": "2020-08-13T06:39:07.657413Z",
     "start_time": "2020-08-13T05:31:01.561763Z"
    }
   },
   "outputs": [
    {
     "name": "stdout",
     "output_type": "stream",
     "text": [
      "Saved Network Parameters!\n",
      "600.0\n",
      "(60000, 1, 28, 28)\n",
      "train acc, test acc | 0.14338333333333333, 0.1437\n",
      "(60000, 1, 28, 28)\n",
      "train acc, test acc | 0.9413666666666667, 0.9459\n",
      "(60000, 1, 28, 28)\n",
      "train acc, test acc | 0.9685166666666667, 0.9706\n",
      "(60000, 1, 28, 28)\n",
      "train acc, test acc | 0.9787, 0.9794\n",
      "(60000, 1, 28, 28)\n",
      "train acc, test acc | 0.9829833333333333, 0.9822\n",
      "(60000, 1, 28, 28)\n",
      "train acc, test acc | 0.9835833333333334, 0.9828\n",
      "(60000, 1, 28, 28)\n",
      "train acc, test acc | 0.9849833333333333, 0.9816\n",
      "(60000, 1, 28, 28)\n",
      "train acc, test acc | 0.9859833333333333, 0.9835\n",
      "(60000, 1, 28, 28)\n",
      "train acc, test acc | 0.9878, 0.9836\n",
      "(60000, 1, 28, 28)\n",
      "train acc, test acc | 0.9872333333333333, 0.9863\n",
      "(60000, 1, 28, 28)\n",
      "train acc, test acc | 0.9885833333333334, 0.9855\n",
      "(60000, 1, 28, 28)\n",
      "train acc, test acc | 0.9891, 0.9867\n",
      "(60000, 1, 28, 28)\n",
      "train acc, test acc | 0.9899833333333333, 0.9861\n",
      "(60000, 1, 28, 28)\n",
      "train acc, test acc | 0.9904666666666667, 0.9865\n",
      "(60000, 1, 28, 28)\n",
      "train acc, test acc | 0.9905666666666667, 0.9863\n",
      "(60000, 1, 28, 28)\n",
      "train acc, test acc | 0.99065, 0.9857\n",
      "(60000, 1, 28, 28)\n",
      "train acc, test acc | 0.9924166666666666, 0.9867\n"
     ]
    },
    {
     "data": {
      "image/png": "[encoded data removed]",
      "text/plain": [
       "<Figure size 432x288 with 1 Axes>"
      ]
     },
     "metadata": {
      "needs_background": "light"
     },
     "output_type": "display_data"
    }
   ],
   "source": [
    "# coding: utf-8\n",
    "import sys, os\n",
    "sys.path.append(os.pardir)  # 부모 디렉터리의 파일을 가져올 수 있도록 설정\n",
    "import pickle\n",
    "import numpy as np\n",
    "from collections import OrderedDict\n",
    "from common.layers import *\n",
    "from common.gradient import numerical_gradient\n",
    "import matplotlib.pyplot as plt\n",
    "from dataset.mnist import load_mnist\n",
    "from common.trainer import Trainer\n",
    "\n",
    "class SimpleConvNet:\n",
    "    def __init__(self, input_dim=(1, 28, 28),\n",
    "                 conv_param={'filter_num': 32, 'filter_size': 5, 'pad': 0, 'stride': 1},\n",
    "                 hidden_size=50, output_size=10, weight_init_std=0.01):\n",
    "        filter_num = conv_param['filter_num']  # 30\n",
    "        filter_size = conv_param['filter_size']    #  5\n",
    "        filter_pad = conv_param['pad']   # 0\n",
    "        filter_stride = conv_param['stride']  # 1\n",
    "        input_size = input_dim[1]             # 28\n",
    "        conv_output_size = (input_size - filter_size + 2 * filter_pad) / filter_stride + 1 # 24\n",
    "        pool_output_size = int(filter_num * (conv_output_size / 2) * (conv_output_size / 2))\n",
    "                                     #   30  *  12  * 12 \n",
    "        # conv_output_size와 pool_output_size는 완전연결계층에서 가중치 W2를 생성하기 위해 필요\n",
    "        # 가중치 초기화\n",
    "        self.params = {}\n",
    "        self.params['W1'] = weight_init_std * \\\n",
    "                            np.random.randn(filter_num, input_dim[0], filter_size, filter_size)\n",
    "               # 0.01 *  np.random.rand ( 30, 1, 5, 5 ) \n",
    "        self.params['b1'] = np.zeros(filter_num)  #  30 \n",
    "        self.params['W2'] = weight_init_std * \\\n",
    "                            np.random.randn(pool_output_size, hidden_size)\n",
    "              # 0.01 * np.random.randn( 30 * 12 * 12, 100 )\n",
    "        self.params['b2'] = np.zeros(hidden_size)  # 100 \n",
    "\n",
    "        # 계층 생성\n",
    "        self.layers = OrderedDict()\n",
    "        \n",
    "        self.layers['Conv1'] = Convolution(self.params['W1'], self.params['b1'],\n",
    "                                           conv_param['stride'], conv_param['pad'])\n",
    "        self.layers['Relu1'] = Relu()\n",
    "        self.layers['Pool1'] = Pooling(pool_h=2, pool_w=2, stride=2)\n",
    "        \n",
    "        self.layers['Affine1'] = Affine(self.params['W2'], self.params['b2'])\n",
    "\n",
    "        self.last_layer = SoftmaxWithLoss()\n",
    "\n",
    "    def predict(self, x):\n",
    "        for layer in self.layers.values():\n",
    "            x = layer.forward(x)\n",
    "\n",
    "        return x\n",
    "\n",
    "    def loss(self, x, t):\n",
    "        y = self.predict(x)\n",
    "        return self.last_layer.forward(y, t)\n",
    "\n",
    "    def accuracy(self, x, t, batch_size=100):\n",
    "        if t.ndim != 1: t = np.argmax(t, axis=1)\n",
    "\n",
    "        acc = 0.0\n",
    "\n",
    "        for i in range(int(x.shape[0] / batch_size)):\n",
    "            tx = x[i * batch_size:(i + 1) * batch_size]\n",
    "            tt = t[i * batch_size:(i + 1) * batch_size]\n",
    "            y = self.predict(tx)\n",
    "            y = np.argmax(y, axis=1)\n",
    "            acc += np.sum(y == tt)\n",
    "\n",
    "        return acc / x.shape[0]\n",
    "\n",
    "    def numerical_gradient(self, x, t):\n",
    "        loss_w = lambda w: self.loss(x, t)\n",
    "\n",
    "        grads = {}\n",
    "        for idx in (1, 2, 3):\n",
    "            grads['W' + str(idx)] = numerical_gradient(loss_w, self.params['W' + str(idx)])\n",
    "            grads['b' + str(idx)] = numerical_gradient(loss_w, self.params['b' + str(idx)])\n",
    "\n",
    "        return grads\n",
    "\n",
    "    def gradient(self, x, t):\n",
    "        # forward\n",
    "        self.loss(x, t)\n",
    "\n",
    "        # backward\n",
    "        dout = 1\n",
    "        dout = self.last_layer.backward(dout)\n",
    "\n",
    "        layers = list(self.layers.values())\n",
    "        layers.reverse()\n",
    "        for layer in layers:\n",
    "            dout = layer.backward(dout)\n",
    "\n",
    "        # 결과 저장\n",
    "        grads = {}\n",
    "        grads['W1'], grads['b1'] = self.layers['Conv1'].dW, self.layers['Conv1'].db\n",
    "        grads['W2'], grads['b2'] = self.layers['Affine1'].dW, self.layers['Affine1'].db\n",
    "\n",
    "        return grads\n",
    "\n",
    "    def save_params(self, file_name=\"params.pkl\"):\n",
    "        params = {}\n",
    "        for key, val in self.params.items():\n",
    "            params[key] = val\n",
    "        with open(file_name, 'wb') as f:\n",
    "            pickle.dump(params, f)\n",
    "\n",
    "    def load_params(self, file_name=\"params.pkl\"):\n",
    "        with open(file_name, 'rb') as f:\n",
    "            params = pickle.load(f)\n",
    "        for key, val in params.items():\n",
    "            self.params[key] = val\n",
    "\n",
    "        for i, key in enumerate(['Conv1', 'Affine1']):\n",
    "            self.layers[key].W = self.params['W' + str(i + 1)]\n",
    "            self.layers[key].b = self.params['b' + str(i + 1)]\n",
    "\n",
    "# 데이터 읽기\n",
    "(x_train, t_train), (x_test, t_test) = load_mnist(flatten=False)\n",
    "\n",
    "# 시간이 오래 걸릴 경우 데이터를 줄인다.\n",
    "# x_train, t_train = x_train[:5000], t_train[:5000]\n",
    "# x_test, t_test = x_test[:1000], t_test[:1000]\n",
    "\n",
    "max_epochs = 20\n",
    "\n",
    "network = SimpleConvNet(input_dim=(1, 28, 28),\n",
    "                        conv_param={'filter_num': 32, 'filter_size': 5, 'pad': 0, 'stride': 1},\n",
    "                        hidden_size=50, output_size=10, weight_init_std=0.01)\n",
    "\n",
    "# 매개변수 보존\n",
    "network.save_params(\"params.pkl\")\n",
    "print(\"Saved Network Parameters!\")\n",
    "\n",
    "# 하이퍼파라미터\n",
    "iters_num = 10000  # 반복 횟수를 적절히 설정한다.\n",
    "train_size = x_train.shape[0] # 60000 개\n",
    "batch_size = 100  # 미니배치 크기\n",
    "learning_rate = 0.1\n",
    "train_loss_list = []\n",
    "train_acc_list = []\n",
    "test_acc_list = []\n",
    "\n",
    "# 1에폭당 반복 수\n",
    "iter_per_epoch = max(train_size / batch_size, 1)\n",
    "print(iter_per_epoch) # 600\n",
    "\n",
    "for i in range(iters_num): # 10000\n",
    "    # 미니배치 획득  # 랜덤으로 100개씩 뽑아서 10000번을 수행하니까 백만번\n",
    "    batch_mask = np.random.choice(train_size, batch_size) # 100개 씩 뽑아서 10000번 백만번\n",
    "    x_batch = x_train[batch_mask]\n",
    "    t_batch = t_train[batch_mask]\n",
    "\n",
    "    # 기울기 계산\n",
    "    #grad = network.numerical_gradient(x_batch, t_batch)\n",
    "    grad = network.gradient(x_batch, t_batch)\n",
    "    # 매개변수 갱신\n",
    "\n",
    "    for key in ('W1', 'b1', 'W2', 'b2'):\n",
    "        network.params[key] -= learning_rate * grad[key]\n",
    "\n",
    "    # 학습 경과 기록\n",
    "    loss = network.loss(x_batch, t_batch)\n",
    "    train_loss_list.append(loss) # cost 가 점점 줄어드는것을 보려고\n",
    "    # 1에폭당 정확도 계산 # 여기는 훈련이 아니라 1에폭 되었을때 정확도만 체크\n",
    "\n",
    "    if i % iter_per_epoch == 0: # 600 번마다 정확도 쌓는다.\n",
    "        print(x_train.shape) # 60000,784\n",
    "        train_acc = network.accuracy(x_train, t_train)\n",
    "        test_acc = network.accuracy(x_test, t_test)\n",
    "        train_acc_list.append(train_acc) # 10000/600 개  16개 # 정확도가 점점 올라감\n",
    "        test_acc_list.append(test_acc)  # 10000/600 개 16개 # 정확도가 점점 올라감\n",
    "        print(\"train acc, test acc | \" + str(train_acc) + \", \" + str(test_acc))\n",
    "\n",
    "# 그래프 그리기\n",
    "markers = {'train': 'o', 'test': 's'}\n",
    "x = np.arange(len(train_acc_list))\n",
    "plt.plot(x, train_acc_list, label='train acc')\n",
    "plt.plot(x, test_acc_list, label='test acc', linestyle='--')\n",
    "plt.xlabel(\"epochs\")\n",
    "plt.ylabel(\"accuracy\")\n",
    "plt.ylim(0, 1.0)\n",
    "plt.legend(loc='lower right')\n",
    "plt.show()"
   ]
  },
  {
   "cell_type": "markdown",
   "metadata": {},
   "source": [
    "### <b>■ LeNet5 </b>\n",
    "    CNN 알고리즘\n",
    "![lenet](http://cfile260.uf.daum.net/image/996E3B455F34692D0D63D0)\n",
    "![lenet2](http://cfile285.uf.daum.net/image/996886455F346C500ECD8F)\n",
    "\n",
    "    이미지 -------> conv1 -------> pooling --------> conv2 -------> pooling --------> Fully connected (은닉->출력)\n",
    "                                                                                    Affine1 ----> Affine2\n",
    "\n",
    "    LeNet 신경망부터는 텐서플로우로 구현\n",
    "    \n",
    "## <b>■ Tensor Flow</b>\n",
    "    다차원 흐름\n",
    "    \n",
    "    4차원 배열의 연산(계산)을 빠르게 할 수 있게끔 구현 가능\n",
    "        1. 코드가 간결\n",
    "        2. 신경망 구현에 필요한 모든 함수들이 다 내장\n",
    "        3. 속도가 빠름(코딩 및 실행)\n",
    "        4. GPU 사용 가능\n",
    "            Window에서 GPU 사용 가능하도록 지원\n",
    "            \n",
    "### <b>■ Tensor Flow 구조</b>\n",
    "    모델을 생성하는 부분\n",
    "        - 변수\n",
    "    모델을 실행하는 부분\n",
    "        -세션\n",
    "    \n",
    "![tensor](http://cfile264.uf.daum.net/image/991BCF3359892BB313FF4B)\n",
    "\n",
    "### <b>■ Tensor Flow 용어</b>\n",
    "    1. 오퍼레이션(Operation)\n",
    "        그래프 상의 노드를 오퍼레이션\n",
    "        하나 이상의 텐서를 받을 수 있다\n",
    "        계산을 수행하고 결과를 하나 이상의 텐서로 반환할 수 있다\n",
    "        \n",
    "    2. Tensor\n",
    "        내부적으로 모든 데이터는 텐서를 통해 표현\n",
    "        텐서는 일종의 다차원 배열, 그래프 내의 오퍼레이션간에 텐서가 전달\n",
    "        \n",
    "    3. 세션(Session)\n",
    "        그래프를 실행하기 위해서는 세션 객체가 필요\n",
    "        오퍼레이션의 실행환경을 캡슐화 한 것\n",
    "    \n",
    "    4. 변수\n",
    "        그래프의 실행 시 파라미터를 저장하고 갱신하는데 사용\n",
    "        메모리상의 텐서를 저장하는 버퍼의 역할"
   ]
  },
  {
   "cell_type": "markdown",
   "metadata": {},
   "source": [
    "### ※ 문제109. (오늘의 마지막 문제) 현재 구성한 가상환경에 텐서플로우가 잘 수행되는지 확인하시오\n",
    "    1. 텐서 플로우 1.x: snowdeer_env\n",
    "    2. 텐서 플로우 2.x: keras_study"
   ]
  },
  {
   "cell_type": "code",
   "execution_count": null,
   "metadata": {},
   "outputs": [],
   "source": []
  },
  {
   "cell_type": "code",
   "execution_count": null,
   "metadata": {},
   "outputs": [],
   "source": []
  }
 ],
 "metadata": {
  "kernelspec": {
   "display_name": "Python 3",
   "language": "python",
   "name": "python3"
  },
  "language_info": {
   "codemirror_mode": {
    "name": "ipython",
    "version": 3
   },
   "file_extension": ".py",
   "mimetype": "text/x-python",
   "name": "python",
   "nbconvert_exporter": "python",
   "pygments_lexer": "ipython3",
   "version": "3.7.6"
  },
  "toc": {
   "base_numbering": 1,
   "nav_menu": {},
   "number_sections": true,
   "sideBar": true,
   "skip_h1_title": false,
   "title_cell": "Table of Contents",
   "title_sidebar": "Contents",
   "toc_cell": false,
   "toc_position": {},
   "toc_section_display": true,
   "toc_window_display": false
  },
  "varInspector": {
   "cols": {
    "lenName": 16,
    "lenType": 16,
    "lenVar": 40
   },
   "kernels_config": {
    "python": {
     "delete_cmd_postfix": "",
     "delete_cmd_prefix": "del ",
     "library": "var_list.py",
     "varRefreshCmd": "print(var_dic_list())"
    },
    "r": {
     "delete_cmd_postfix": ") ",
     "delete_cmd_prefix": "rm(",
     "library": "var_list.r",
     "varRefreshCmd": "cat(var_dic_list()) "
    }
   },
   "types_to_exclude": [
    "module",
    "function",
    "builtin_function_or_method",
    "instance",
    "_Feature"
   ],
   "window_display": false
  }
 },
 "nbformat": 4,
 "nbformat_minor": 4
}

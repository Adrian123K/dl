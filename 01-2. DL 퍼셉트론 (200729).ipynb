{
 "cells": [
  {
   "cell_type": "markdown",
   "metadata": {},
   "source": [
    "## <b>■ 퍼셉트론</b>\n",
    "### <b>□ 퍼셉트론(Perceptron)이란</b>\n",
    "    - 인간의 뇌세포 하나를 컴퓨터로 구현한 것\n",
    "    - 1957년 프랑크 로젠블라트가 퍼셉트론 알고리즘을 고안\n",
    "    - 사람의 뇌의 동작을 전기 스위치 on/off로 흉내낼 수 있다는 이론을 증명\n",
    "    \n",
    "    인간의 신경세포 하나를 흉내를 냈는데 고등학교 생물시간에 배운 3가지 용어\n",
    "        1. 자극(stimulus)\n",
    "        2. 반응(response)\n",
    "        3. 역치(threshold)\n",
    "            특정 자극이 있다면 그 자극이 어느 역치 이상이어야 세포가 반응한다 (역치 이하의 자극은 무시)\n",
    "            \n",
    "![pct](http://cfile262.uf.daum.net/image/99E036465F2123102E2BCB)"
   ]
  },
  {
   "cell_type": "markdown",
   "metadata": {},
   "source": [
    "### <b>□ and 게이트</b>\n",
    "### ※ 문제14. 위의 and 게이트를 numpy array로 구현하시오"
   ]
  },
  {
   "cell_type": "code",
   "execution_count": 12,
   "metadata": {
    "ExecuteTime": {
     "end_time": "2020-07-29T07:25:44.046534Z",
     "start_time": "2020-07-29T07:25:44.039537Z"
    }
   },
   "outputs": [
    {
     "name": "stdout",
     "output_type": "stream",
     "text": [
      "(4, 2)\n",
      "(4, 1)\n",
      "[[-1]\n",
      " [-1]\n",
      " [-1]\n",
      " [-1]]\n"
     ]
    }
   ],
   "source": [
    "import numpy as np\n",
    "inputs = np.array([[0,0],[0,1],[1,0],[1,1]])\n",
    "target = np.array([0,0,0,1]).reshape(4,1)\n",
    "bias = np.array([-1]*4).reshape(4,1)\n",
    "weight = np.array([0.5,0.5,0.7]).reshape(3,1)\n",
    "\n",
    "print(inputs.shape)\n",
    "print(target.shape)\n",
    "print(bias)"
   ]
  },
  {
   "cell_type": "markdown",
   "metadata": {},
   "source": [
    "### ※ 문제15. AND 게이트 퍼셉트론 함수를 생성하시오"
   ]
  },
  {
   "cell_type": "code",
   "execution_count": 14,
   "metadata": {
    "ExecuteTime": {
     "end_time": "2020-07-29T07:29:34.364746Z",
     "start_time": "2020-07-29T07:29:34.357749Z"
    }
   },
   "outputs": [
    {
     "name": "stdout",
     "output_type": "stream",
     "text": [
      "0\n",
      "0\n",
      "0\n",
      "1\n"
     ]
    }
   ],
   "source": [
    "def AND(x1, x2):\n",
    "    w1, w2, theta = 0.5, 0.5, 0.7\n",
    "    tmp = x1 * w1 + x2 * w2\n",
    "    if tmp <= theta:\n",
    "        return 0\n",
    "    else:\n",
    "        return 1\n",
    "    \n",
    "inputs = np.array([[0,0],[0,1],[1,0],[1,1]])\n",
    "target = np.array([0,0,0,1]).reshape(4,1)\n",
    "\n",
    "print(AND(0,0))\n",
    "print(AND(0,1))\n",
    "print(AND(1,0))\n",
    "print(AND(1,1))"
   ]
  },
  {
   "cell_type": "markdown",
   "metadata": {},
   "source": [
    "### ※ 문제16. OR 게이트 퍼셉트론 함수를 생성하시오"
   ]
  },
  {
   "cell_type": "code",
   "execution_count": 16,
   "metadata": {
    "ExecuteTime": {
     "end_time": "2020-07-29T07:34:38.734140Z",
     "start_time": "2020-07-29T07:34:38.727144Z"
    }
   },
   "outputs": [
    {
     "name": "stdout",
     "output_type": "stream",
     "text": [
      "0\n",
      "1\n",
      "1\n",
      "1\n"
     ]
    }
   ],
   "source": [
    "def OR(x1, x2):\n",
    "    w1, w2, theta = 0.5, 0.5, 0.4\n",
    "    tmp = x1 * w1 + x2 * w2\n",
    "    if tmp <= theta:\n",
    "        return 0\n",
    "    else:\n",
    "        return 1\n",
    "    \n",
    "print(OR(0,0))\n",
    "print(OR(0,1))\n",
    "print(OR(1,0))\n",
    "print(OR(1,1))"
   ]
  },
  {
   "cell_type": "markdown",
   "metadata": {},
   "source": [
    "### <b>■ 가중치와 편향을 도입</b>\n",
    "![e2.1](dl_images/e2.1.png)\n",
    "<center>식2.1</center>\n",
    "\n",
    "![e2.2](dl_images/e2.2.png)\n",
    "<center>식2.1</center>\n",
    "\n",
    "    [식2.1]과 [식2.2]는 기호 표기만 다를 뿐 의미는 동일\n",
    "    b를 편향(bias)이라고 하며 w1, w2는 가중치\n",
    "    퍼셉트론은 입력신호에 가중치를 곱한 값과 편항을 합하여 그 값이 0을 넘으면 1을 출력하고 그렇지 않으면 0을 출력\n",
    "    \n",
    "    딥러닝 면접문제1. 신경망에 편향이 왜 필요한가?\n",
    "        편향은 뉴런이 얼마나 쉽게 활성화(결과를 1로 출력) 하느냐를 조정하는 매개변수\n",
    "        AND 게이트처럼 입력신호가 x1, x2 값을 받는 경우 편향(x0)이 없다면 target을 분류하는 직선은 무조건 원점을 통과하기 때문에 제대로 분류할 수 없다.\n",
    "        \n",
    "    딥러닝 면접문제2. 가중치(w)는 무엇인가?\n",
    "        가중치는 각 입력신호가 결과에 주는 영향력(중요도)를 조정하는 매개변수"
   ]
  },
  {
   "cell_type": "markdown",
   "metadata": {},
   "source": [
    "### ※ 문제17. (오늘의 마지막 문제) NAND 게이트 함수를 생성하시오"
   ]
  },
  {
   "cell_type": "code",
   "execution_count": 17,
   "metadata": {
    "ExecuteTime": {
     "end_time": "2020-07-29T07:44:04.596516Z",
     "start_time": "2020-07-29T07:44:04.589519Z"
    }
   },
   "outputs": [
    {
     "name": "stdout",
     "output_type": "stream",
     "text": [
      "1\n",
      "1\n",
      "1\n",
      "0\n"
     ]
    }
   ],
   "source": [
    "def NAND(x1, x2):\n",
    "    w1, w2, theta = 0.5, 0.5, 0.7\n",
    "    tmp = x1*w1 + x2*w2\n",
    "    if tmp <= theta:\n",
    "        return 1\n",
    "    else:\n",
    "        return 0\n",
    "print(NAND(0,0))\n",
    "print(NAND(0,1))\n",
    "print(NAND(1,0))\n",
    "print(NAND(1,1))"
   ]
  },
  {
   "cell_type": "code",
   "execution_count": null,
   "metadata": {},
   "outputs": [],
   "source": []
  },
  {
   "cell_type": "code",
   "execution_count": null,
   "metadata": {},
   "outputs": [],
   "source": []
  },
  {
   "cell_type": "code",
   "execution_count": null,
   "metadata": {},
   "outputs": [],
   "source": []
  },
  {
   "cell_type": "code",
   "execution_count": null,
   "metadata": {},
   "outputs": [],
   "source": []
  }
 ],
 "metadata": {
  "kernelspec": {
   "display_name": "Python 3",
   "language": "python",
   "name": "python3"
  },
  "language_info": {
   "codemirror_mode": {
    "name": "ipython",
    "version": 3
   },
   "file_extension": ".py",
   "mimetype": "text/x-python",
   "name": "python",
   "nbconvert_exporter": "python",
   "pygments_lexer": "ipython3",
   "version": "3.7.6"
  },
  "toc": {
   "base_numbering": 1,
   "nav_menu": {},
   "number_sections": true,
   "sideBar": true,
   "skip_h1_title": false,
   "title_cell": "Table of Contents",
   "title_sidebar": "Contents",
   "toc_cell": false,
   "toc_position": {},
   "toc_section_display": true,
   "toc_window_display": false
  },
  "varInspector": {
   "cols": {
    "lenName": 16,
    "lenType": 16,
    "lenVar": 40
   },
   "kernels_config": {
    "python": {
     "delete_cmd_postfix": "",
     "delete_cmd_prefix": "del ",
     "library": "var_list.py",
     "varRefreshCmd": "print(var_dic_list())"
    },
    "r": {
     "delete_cmd_postfix": ") ",
     "delete_cmd_prefix": "rm(",
     "library": "var_list.r",
     "varRefreshCmd": "cat(var_dic_list()) "
    }
   },
   "types_to_exclude": [
    "module",
    "function",
    "builtin_function_or_method",
    "instance",
    "_Feature"
   ],
   "window_display": false
  }
 },
 "nbformat": 4,
 "nbformat_minor": 4
}

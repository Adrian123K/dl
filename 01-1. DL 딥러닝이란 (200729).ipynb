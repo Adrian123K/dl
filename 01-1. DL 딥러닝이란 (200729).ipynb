{
 "cells": [
  {
   "cell_type": "markdown",
   "metadata": {},
   "source": [
    "# <b>■ 딥러닝 수업</b>\n",
    "    딥러닝으로 할 수 있는 것\n",
    "    \n",
    "    인공지능의 눈 : CNN\n",
    "        예) 불량품 선별, 미술작품 스타일 변환, 의료질병 판별 등\n",
    "    \n",
    "    인공지능의 입과 귀 : RNN\n",
    "        예) 시계열 신경망을 만들어서 주가 예측, 번역, 작곡, 챗봇개발 등\n",
    "        \n",
    "## <b>■ 딥러닝이란</b>\n",
    "    Wikipedia : 여러 비선형변환 기법의 조합을 통해 높은 수준의 추상화를 시도하는 기계학습 알고리즘의 한 종류\n",
    "    \n",
    "    머신러닝의 종류 3가지\n",
    "        1. 지도학습\n",
    "            신경망 (층이 깊은 신경망을 딥러닝이라 한다)\n",
    "            \n",
    "        2. 비지도학습\n",
    "        3. 강화학습\n",
    "        \n",
    "    머신러닝과 딥러닝의 차이\n",
    "        * 머신러닝으로 기계를 학습시키려면 정형화된 데이터가 있어야 한다.\n",
    "                                  ↓\n",
    "          정형화된 데이터를 만들려고 판다스를 공부했다.\n",
    "              정형화된 데이터를 만드는 것이 상당한 노동력이 들어가는 일이다.\n",
    "    \n",
    "        * 딥러닝은 이미지를 신경망에 보여주기만 한다. 스스로 학습을 해서 그 이미지를 알아볼 수 있는 상태가 되는 것.\n",
    "\n",
    "<center><b>머신러닝</b></center>\n",
    "\n",
    "![머신러닝](http://cfile295.uf.daum.net/image/21970D33596B26A801530F)\n",
    "<br><br>\n",
    "<center><b>딥러닝</b></center>\n",
    "\n",
    "![딥러닝](http://cfile271.uf.daum.net/image/214E0D33596B2682078B1D)\n",
    "\n",
    "## <b>■ 딥러닝 기술을 이용해서 현업에서 하고 있는 일들</b>\n",
    "    1. 공항에서 물품 검색대에 물건을 CNN으로 판별하여 위반되는 물품이 있는지 검사하는 신경망 개발\n",
    "    2. 의료쪽에서는 x-ray 사진과 의료영상 사진의 질병 여부를 컴퓨터가 판별\n",
    "    3. 물품(의류, 섬유 등)의 불량품을 판별하는 신경망 개발 + 인터페이스\n",
    "    4. 자율 주행 자동차에서의 사물 인식\n",
    "    5. 주가 예측 신경망 개발\n",
    "    6. 외국어 번역 신경망\n",
    "    7. 인공지능 변호사 (법률책 -> 신경망 -> 판결)\n",
    "    8. 음악 작곡 신경망 (Gan) -> Amazon 키보드\n",
    "    \n",
    "## <b>■ Numpy 배열 생성하기 </b>\n",
    "    numpy : python 언어에서 기본적으로 지원하지 않는 배열(array) 혹은 행렬(matrix)의 계산을 쉽게 해주는 라이브러리\n",
    "            머신러닝에서 많이 사용하는 선형대수학에 관련된 수식들을 python에서 쉽게 프로그래밍 할 수 있게 해준다."
   ]
  },
  {
   "cell_type": "markdown",
   "metadata": {},
   "source": [
    "### ※ 문제1. 아래의 행렬을 numpy로 만드시오"
   ]
  },
  {
   "cell_type": "code",
   "execution_count": 2,
   "metadata": {
    "ExecuteTime": {
     "end_time": "2020-07-29T02:07:21.615591Z",
     "start_time": "2020-07-29T02:07:21.599600Z"
    }
   },
   "outputs": [
    {
     "data": {
      "text/plain": [
       "array([[1, 2],\n",
       "       [3, 4]])"
      ]
     },
     "execution_count": 2,
     "metadata": {},
     "output_type": "execute_result"
    }
   ],
   "source": [
    "import numpy as np\n",
    "a=[1,2,3,4]\n",
    "a = np.array(a).reshape((2,2))\n",
    "a"
   ]
  },
  {
   "cell_type": "markdown",
   "metadata": {},
   "source": [
    "### ※ 문제2. 위의 a 행렬의 각 요소에 숫자 5를 더하시오"
   ]
  },
  {
   "cell_type": "code",
   "execution_count": 3,
   "metadata": {
    "ExecuteTime": {
     "end_time": "2020-07-29T02:14:36.715631Z",
     "start_time": "2020-07-29T02:14:36.709633Z"
    }
   },
   "outputs": [
    {
     "data": {
      "text/plain": [
       "array([[6, 7],\n",
       "       [8, 9]])"
      ]
     },
     "execution_count": 3,
     "metadata": {},
     "output_type": "execute_result"
    }
   ],
   "source": [
    "a+5"
   ]
  },
  {
   "cell_type": "markdown",
   "metadata": {},
   "source": [
    "    numpy에서는 형상이 다른 배열끼리도 계산을 할 수 있다.\n",
    "    위의 경우처럼 숫자 5가 2x2 행렬로 확대된 후 연산이 이루어지는 것을 브로드캐스트(broadcast)라고 한다.\n",
    "    numpy가 제공하는 브로드캐스트 기능 덕분에 형상이 다른 배열끼리 연산을 스마트하게 할 수 있다."
   ]
  },
  {
   "cell_type": "markdown",
   "metadata": {},
   "source": [
    "### ※ 문제3. 아래의 브로드캐스트 기능을 numpy로 구현하시오"
   ]
  },
  {
   "cell_type": "code",
   "execution_count": 4,
   "metadata": {
    "ExecuteTime": {
     "end_time": "2020-07-29T02:26:13.751087Z",
     "start_time": "2020-07-29T02:26:13.746090Z"
    }
   },
   "outputs": [
    {
     "data": {
      "text/plain": [
       "array([[10, 20],\n",
       "       [30, 40]])"
      ]
     },
     "execution_count": 4,
     "metadata": {},
     "output_type": "execute_result"
    }
   ],
   "source": [
    "a*10"
   ]
  },
  {
   "cell_type": "markdown",
   "metadata": {},
   "source": [
    "### ※ 문제4. 아래의 행렬식을 numpy로 구현하시오\n",
    "$$\\begin{pmatrix}\n",
    "    1 & 3 & 7 \\\\\n",
    "    1 & 0 & 0 \\\\\n",
    "    \\end{pmatrix}+\n",
    "    \\begin{pmatrix}\n",
    "    0 & 0 & 5 \\\\\n",
    "    7 & 5 & 0 \\\\\n",
    "    \\end{pmatrix}\n",
    "    $$"
   ]
  },
  {
   "cell_type": "code",
   "execution_count": 5,
   "metadata": {
    "ExecuteTime": {
     "end_time": "2020-07-29T02:29:01.870492Z",
     "start_time": "2020-07-29T02:29:01.861497Z"
    }
   },
   "outputs": [
    {
     "data": {
      "text/plain": [
       "array([[ 1,  3, 12],\n",
       "       [ 8,  5,  0]])"
      ]
     },
     "execution_count": 5,
     "metadata": {},
     "output_type": "execute_result"
    }
   ],
   "source": [
    "import numpy as np\n",
    "a = np.array([1,3,7,1,0,0]).reshape((2,3))\n",
    "b = np.array([0,0,5,7,5,0]).reshape((2,3))\n",
    "a+b"
   ]
  },
  {
   "cell_type": "code",
   "execution_count": null,
   "metadata": {},
   "outputs": [],
   "source": []
  },
  {
   "cell_type": "code",
   "execution_count": null,
   "metadata": {},
   "outputs": [],
   "source": []
  },
  {
   "cell_type": "code",
   "execution_count": null,
   "metadata": {},
   "outputs": [],
   "source": []
  },
  {
   "cell_type": "code",
   "execution_count": null,
   "metadata": {},
   "outputs": [],
   "source": []
  },
  {
   "cell_type": "code",
   "execution_count": null,
   "metadata": {},
   "outputs": [],
   "source": []
  }
 ],
 "metadata": {
  "kernelspec": {
   "display_name": "Python 3",
   "language": "python",
   "name": "python3"
  },
  "language_info": {
   "codemirror_mode": {
    "name": "ipython",
    "version": 3
   },
   "file_extension": ".py",
   "mimetype": "text/x-python",
   "name": "python",
   "nbconvert_exporter": "python",
   "pygments_lexer": "ipython3",
   "version": "3.7.6"
  },
  "toc": {
   "base_numbering": 1,
   "nav_menu": {},
   "number_sections": true,
   "sideBar": true,
   "skip_h1_title": false,
   "title_cell": "Table of Contents",
   "title_sidebar": "Contents",
   "toc_cell": false,
   "toc_position": {},
   "toc_section_display": true,
   "toc_window_display": false
  },
  "varInspector": {
   "cols": {
    "lenName": 16,
    "lenType": 16,
    "lenVar": 40
   },
   "kernels_config": {
    "python": {
     "delete_cmd_postfix": "",
     "delete_cmd_prefix": "del ",
     "library": "var_list.py",
     "varRefreshCmd": "print(var_dic_list())"
    },
    "r": {
     "delete_cmd_postfix": ") ",
     "delete_cmd_prefix": "rm(",
     "library": "var_list.r",
     "varRefreshCmd": "cat(var_dic_list()) "
    }
   },
   "types_to_exclude": [
    "module",
    "function",
    "builtin_function_or_method",
    "instance",
    "_Feature"
   ],
   "window_display": false
  }
 },
 "nbformat": 4,
 "nbformat_minor": 4
}

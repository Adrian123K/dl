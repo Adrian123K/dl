{
 "cells": [
  {
   "cell_type": "markdown",
   "metadata": {},
   "source": [
    "## <b>■ 4장. 신경망 학습(우리가 직접 신경망의 가중치와 바이어스를 생성) </b>\n",
    "    * 신경망을 학습 시키기 위해서 알아야하는 내용\n",
    "        1. 오차함수\n",
    "        2. 미니배치\n",
    "        3. 수치미분\n",
    "        \n",
    "### <b>□ 손실(오차)함수 (p.111)</b>\n",
    "    예상값과 실제값과의 오차를 신경망에 역전파 시켜주기 위해서 필요한 함수\n",
    "\n",
    "    오차가 최소화 될 때까지 신경망을 학습시키기 위해서 필요한 함수\n",
    "    신경망의 잘못을 깨닫게 해주는 함수\n",
    "    \n",
    "    1. 평균 제곱 오차함수 (MSE) : 회귀분석\n",
    "    2. 교차 엔트로피 오차함수 (CEE) : 분류\n",
    "    \n",
    "### <b>■ 평균제곱 오차</b>\n",
    "![fig4-1](dl_images/e4.1.png)\n",
    "\n",
    "$$y_{k} : 예측값 \\\\ t_{k} : 실제값 $$"
   ]
  },
  {
   "cell_type": "markdown",
   "metadata": {},
   "source": [
    "### ※ 문제45. 위의 식을 보고 평균제곱 오차함수를 만드시오"
   ]
  },
  {
   "cell_type": "code",
   "execution_count": 9,
   "metadata": {
    "ExecuteTime": {
     "end_time": "2020-08-04T07:37:18.330114Z",
     "start_time": "2020-08-04T07:37:18.323117Z"
    }
   },
   "outputs": [
    {
     "data": {
      "text/plain": [
       "0.019500000000000007"
      ]
     },
     "execution_count": 9,
     "metadata": {},
     "output_type": "execute_result"
    }
   ],
   "source": [
    "import numpy as np\n",
    "\n",
    "def mse(y,t):\n",
    "    return (np.sum((y-t)**2))/len(y)\n",
    "\n",
    "y = np.array([0.1,0.05,0.6,0.0,0.05,0.1,0.0,0.1,0.0,0.0])\n",
    "t = np.array([0,0,1,0,0,0,0,0,0,0])\n",
    "\n",
    "mse(y,t)"
   ]
  },
  {
   "cell_type": "markdown",
   "metadata": {},
   "source": [
    "### ※ 문제46. (오늘의 마지막 문제) 숫자 2와의 오차가 0.09로 출력되었는데 다른 숫자인 숫자 7과의 오차가 어떻게 되는지 출력하시오"
   ]
  },
  {
   "cell_type": "code",
   "execution_count": 13,
   "metadata": {
    "ExecuteTime": {
     "end_time": "2020-08-04T07:38:43.446569Z",
     "start_time": "2020-08-04T07:38:43.439572Z"
    }
   },
   "outputs": [
    {
     "name": "stdout",
     "output_type": "stream",
     "text": [
      "0.019500000000000007\n",
      "0.09750000000000003\n"
     ]
    }
   ],
   "source": [
    "import numpy as np\n",
    "\n",
    "def mse(y,t):\n",
    "    return (np.sum((y-t)**2))/ len(y)\n",
    "\n",
    "def mse2(y,t):\n",
    "    return (np.sum((y-t)**2))/ 2\n",
    "\n",
    "y = np.array([0.1,0.05,0.1,0.0,0.05,0.1,0.0,0.6,0.0,0.0])\n",
    "t = np.array([0,0,0,0,0,0,0,1,0,0])\n",
    "\n",
    "print(mse(y,t)) # MSE 0.0195\n",
    "print(mse2(y,t)) # 계량 0.0975"
   ]
  }
 ],
 "metadata": {
  "kernelspec": {
   "display_name": "Python 3",
   "language": "python",
   "name": "python3"
  },
  "language_info": {
   "codemirror_mode": {
    "name": "ipython",
    "version": 3
   },
   "file_extension": ".py",
   "mimetype": "text/x-python",
   "name": "python",
   "nbconvert_exporter": "python",
   "pygments_lexer": "ipython3",
   "version": "3.7.6"
  },
  "toc": {
   "base_numbering": 1,
   "nav_menu": {},
   "number_sections": true,
   "sideBar": true,
   "skip_h1_title": false,
   "title_cell": "Table of Contents",
   "title_sidebar": "Contents",
   "toc_cell": false,
   "toc_position": {},
   "toc_section_display": true,
   "toc_window_display": false
  },
  "varInspector": {
   "cols": {
    "lenName": 16,
    "lenType": 16,
    "lenVar": 40
   },
   "kernels_config": {
    "python": {
     "delete_cmd_postfix": "",
     "delete_cmd_prefix": "del ",
     "library": "var_list.py",
     "varRefreshCmd": "print(var_dic_list())"
    },
    "r": {
     "delete_cmd_postfix": ") ",
     "delete_cmd_prefix": "rm(",
     "library": "var_list.r",
     "varRefreshCmd": "cat(var_dic_list()) "
    }
   },
   "types_to_exclude": [
    "module",
    "function",
    "builtin_function_or_method",
    "instance",
    "_Feature"
   ],
   "window_display": false
  }
 },
 "nbformat": 4,
 "nbformat_minor": 4
}

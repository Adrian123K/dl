{
 "cells": [
  {
   "cell_type": "markdown",
   "metadata": {},
   "source": [
    "## <b>■ 복습</b>\n",
    "    1장. Numpy\n",
    "    2장. 퍼셉트론\n",
    "    3장. 신경망 (저자가 만들어온 가중치)\n",
    "    4장. 신경망 (수치미분을 이용)\n",
    "        1. 단층 신경망 (p.134)\n",
    "        2. 다층 신경망 (p.137)\n",
    "    5장. 신경망 (오차역전파 이용)\n",
    "    \n",
    "    수치미분                          vs                      오차 역전파\n",
    "        수치미분                                                  함수의 도함수를 미리 계산\n",
    "           ↓                                                              ↓\n",
    "        오차함수 : 미분                                           backward 함수에서 해당 수치를 대입\n",
    "           ↓\n",
    "        가중치 = 가중치 - 기울기\n",
    "    \n",
    "    오차 역전파\n",
    "        시그모이드, ReLU, softmax, Cross Entropy Error 함수들의 모든 도함수를 생성\n",
    "        합성함수 연산으로 취급하여 연쇄법칙에 따른 합성곱으로 역전파\n",
    "### <b>■ 계산그래프를 이용해서 오차역전파 이해</b>\n",
    "    1. 덧셈 그래프\n",
    "    2. "
   ]
  },
  {
   "cell_type": "code",
   "execution_count": null,
   "metadata": {},
   "outputs": [],
   "source": []
  },
  {
   "cell_type": "code",
   "execution_count": null,
   "metadata": {},
   "outputs": [],
   "source": []
  },
  {
   "cell_type": "code",
   "execution_count": null,
   "metadata": {},
   "outputs": [],
   "source": []
  },
  {
   "cell_type": "code",
   "execution_count": null,
   "metadata": {},
   "outputs": [],
   "source": []
  },
  {
   "cell_type": "code",
   "execution_count": null,
   "metadata": {},
   "outputs": [],
   "source": []
  }
 ],
 "metadata": {
  "kernelspec": {
   "display_name": "Python 3",
   "language": "python",
   "name": "python3"
  },
  "language_info": {
   "codemirror_mode": {
    "name": "ipython",
    "version": 3
   },
   "file_extension": ".py",
   "mimetype": "text/x-python",
   "name": "python",
   "nbconvert_exporter": "python",
   "pygments_lexer": "ipython3",
   "version": "3.7.6"
  },
  "toc": {
   "base_numbering": 1,
   "nav_menu": {},
   "number_sections": true,
   "sideBar": true,
   "skip_h1_title": false,
   "title_cell": "Table of Contents",
   "title_sidebar": "Contents",
   "toc_cell": false,
   "toc_position": {},
   "toc_section_display": true,
   "toc_window_display": false
  },
  "varInspector": {
   "cols": {
    "lenName": 16,
    "lenType": 16,
    "lenVar": 40
   },
   "kernels_config": {
    "python": {
     "delete_cmd_postfix": "",
     "delete_cmd_prefix": "del ",
     "library": "var_list.py",
     "varRefreshCmd": "print(var_dic_list())"
    },
    "r": {
     "delete_cmd_postfix": ") ",
     "delete_cmd_prefix": "rm(",
     "library": "var_list.r",
     "varRefreshCmd": "cat(var_dic_list()) "
    }
   },
   "types_to_exclude": [
    "module",
    "function",
    "builtin_function_or_method",
    "instance",
    "_Feature"
   ],
   "window_display": false
  }
 },
 "nbformat": 4,
 "nbformat_minor": 4
}

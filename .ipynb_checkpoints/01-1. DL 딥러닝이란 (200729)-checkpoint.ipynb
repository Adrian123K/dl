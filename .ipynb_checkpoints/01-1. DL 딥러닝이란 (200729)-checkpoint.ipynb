{
 "cells": [
  {
   "cell_type": "markdown",
   "metadata": {},
   "source": [
    "# <b>■ 딥러닝 수업</b>\n",
    "    딥러닝으로 할 수 있는 것\n",
    "    \n",
    "    인공지능의 눈 : CNN\n",
    "        예) 불량품 선별, 미술작품 스타일 변환, 의료질병 판별 등\n",
    "    \n",
    "    인공지능의 입과 귀 : RNN\n",
    "        예) 시계열 신경망을 만들어서 주가 예측, 번역, 작곡, 챗봇개발 등\n",
    "        \n",
    "## <b>■ 딥러닝이란</b>\n",
    "    Wikipedia : 여러 비선형변환 기법의 조합을 통해 높은 수준의 추상화를 시도하는 기계학습 알고리즘의 한 종류\n",
    "    \n",
    "    머신러닝의 종류 3가지\n",
    "        1. 지도학습\n",
    "            신경망 (층이 깊은 신경망을 딥러닝이라 한다)\n",
    "            \n",
    "        2. 비지도학습\n",
    "        3. 강화학습\n",
    "        \n",
    "    머신러닝과 딥러닝의 차이\n",
    "        * 머신러닝으로 기계를 학습시키려면 정형화된 데이터가 있어야 한다.\n",
    "                                  ↓\n",
    "          정형화된 데이터를 만들려고 판다스를 공부했다.\n",
    "              정형화된 데이터를 만드는 것이 상당한 노동력이 들어가는 일이다.\n",
    "    \n",
    "        * 딥러닝은 이미지를 신경망에 보여주기만 한다. 스스로 학습을 해서 그 이미지를 알아볼 수 있는 상태가 되는 것.\n",
    "\n",
    "<center><b>머신러닝</b></center>\n",
    "\n",
    "![머신러닝](http://cfile295.uf.daum.net/image/21970D33596B26A801530F)\n",
    "<br><br>\n",
    "<center><b>딥러닝</b></center>\n",
    "\n",
    "![딥러닝](http://cfile271.uf.daum.net/image/214E0D33596B2682078B1D)\n",
    "\n",
    "## <b>■ 딥러닝 기술을 이용해서 현업에서 하고 있는 일들</b>\n",
    "    1. 공항에서 물품 검색대에 물건을 CNN으로 판별하여 위반되는 물품이 있는지 검사하는 신경망 개발"
   ]
  },
  {
   "cell_type": "code",
   "execution_count": null,
   "metadata": {},
   "outputs": [],
   "source": []
  },
  {
   "cell_type": "code",
   "execution_count": null,
   "metadata": {},
   "outputs": [],
   "source": []
  },
  {
   "cell_type": "code",
   "execution_count": null,
   "metadata": {},
   "outputs": [],
   "source": []
  },
  {
   "cell_type": "code",
   "execution_count": null,
   "metadata": {},
   "outputs": [],
   "source": []
  },
  {
   "cell_type": "code",
   "execution_count": null,
   "metadata": {},
   "outputs": [],
   "source": []
  }
 ],
 "metadata": {
  "kernelspec": {
   "display_name": "Python 3",
   "language": "python",
   "name": "python3"
  },
  "language_info": {
   "codemirror_mode": {
    "name": "ipython",
    "version": 3
   },
   "file_extension": ".py",
   "mimetype": "text/x-python",
   "name": "python",
   "nbconvert_exporter": "python",
   "pygments_lexer": "ipython3",
   "version": "3.7.6"
  },
  "toc": {
   "base_numbering": 1,
   "nav_menu": {},
   "number_sections": true,
   "sideBar": true,
   "skip_h1_title": false,
   "title_cell": "Table of Contents",
   "title_sidebar": "Contents",
   "toc_cell": false,
   "toc_position": {},
   "toc_section_display": true,
   "toc_window_display": false
  },
  "varInspector": {
   "cols": {
    "lenName": 16,
    "lenType": 16,
    "lenVar": 40
   },
   "kernels_config": {
    "python": {
     "delete_cmd_postfix": "",
     "delete_cmd_prefix": "del ",
     "library": "var_list.py",
     "varRefreshCmd": "print(var_dic_list())"
    },
    "r": {
     "delete_cmd_postfix": ") ",
     "delete_cmd_prefix": "rm(",
     "library": "var_list.r",
     "varRefreshCmd": "cat(var_dic_list()) "
    }
   },
   "types_to_exclude": [
    "module",
    "function",
    "builtin_function_or_method",
    "instance",
    "_Feature"
   ],
   "window_display": false
  }
 },
 "nbformat": 4,
 "nbformat_minor": 4
}

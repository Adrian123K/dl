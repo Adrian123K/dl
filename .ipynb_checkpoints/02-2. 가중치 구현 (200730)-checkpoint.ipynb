{
 "cells": [
  {
   "cell_type": "markdown",
   "metadata": {},
   "source": [
    "### <b>■ 기계가 직접 학습해서 가중치(W)를 알아내게끔 하는 방법</b>\n",
    "#### 예제1. 아래의 두 행렬을 생성하시오\n",
    "$$x=\\begin{bmatrix} -1 & 0 & 0 \\\\ -1 & 0 & 0 \\\\ -1 & 0 & 1 \\\\ -1 & 1 & 1 \\\\ \\end{bmatrix} \\\\ w = \\begin{bmatrix} 0.3 \\\\ 0.4 \\\\ 0.1 \\\\ \\end{bmatrix}$$"
   ]
  },
  {
   "cell_type": "code",
   "execution_count": 29,
   "metadata": {
    "ExecuteTime": {
     "end_time": "2020-07-30T06:05:08.895921Z",
     "start_time": "2020-07-30T06:05:08.888924Z"
    }
   },
   "outputs": [
    {
     "data": {
      "text/plain": [
       "(array([[-1,  0,  0],\n",
       "        [-1,  1,  0],\n",
       "        [-1,  0,  1],\n",
       "        [-1,  1,  1]]),\n",
       " array([[0.3],\n",
       "        [0.4],\n",
       "        [0.1]]))"
      ]
     },
     "execution_count": 29,
     "metadata": {},
     "output_type": "execute_result"
    }
   ],
   "source": [
    "import numpy as np\n",
    "x = np.array([-1,0,0,-1,1,0,-1,0,1,-1,1,1]).reshape(4,3)\n",
    "w = np.array([0.3,0.4,0.1]).reshape(3,1)\n",
    "x, w"
   ]
  },
  {
   "cell_type": "markdown",
   "metadata": {},
   "source": [
    "#### 예제2. 위의 $x$값과 $w$값을 이용해서 아래와 같이 계산하시오\n",
    "$$ \\begin{bmatrix} -1 & 0 & 0 \\end{bmatrix} \\cdot \\begin{bmatrix} 0.3 & 0.4 & 0.1 \\\\ \\end{bmatrix} = \\begin{bmatrix} -0.3 & 0 & 0 \\\\ \\end{bmatrix} $$"
   ]
  },
  {
   "cell_type": "code",
   "execution_count": 30,
   "metadata": {
    "ExecuteTime": {
     "end_time": "2020-07-30T06:05:11.011090Z",
     "start_time": "2020-07-30T06:05:11.006092Z"
    }
   },
   "outputs": [
    {
     "data": {
      "text/plain": [
       "array([[-0.3,  0. ,  0. ]])"
      ]
     },
     "execution_count": 30,
     "metadata": {},
     "output_type": "execute_result"
    }
   ],
   "source": [
    "x[0]*w.T"
   ]
  },
  {
   "cell_type": "markdown",
   "metadata": {},
   "source": [
    "#### 예제3. 위에서 곱해서 나온 숫자들 3개를 다 더하시오"
   ]
  },
  {
   "cell_type": "code",
   "execution_count": 31,
   "metadata": {
    "ExecuteTime": {
     "end_time": "2020-07-30T06:05:12.706614Z",
     "start_time": "2020-07-30T06:05:12.700617Z"
    }
   },
   "outputs": [
    {
     "data": {
      "text/plain": [
       "-0.3"
      ]
     },
     "execution_count": 31,
     "metadata": {},
     "output_type": "execute_result"
    }
   ],
   "source": [
    "np.sum(x[0]*w.T)"
   ]
  },
  {
   "cell_type": "markdown",
   "metadata": {},
   "source": [
    "    모든 프로그래밍은 함수로 구성되어져 있다.\n",
    "        1. 로직을 함수로 생성\n",
    "        2. 비슷한 기능을 하는 함수를 모아서 클래스 생성\n",
    "        3. 클래스를 모듈(파일이름.py)로 저장해서 import로 호출해서 사용\n",
    "    위의 3가지 방법으로 프로그래밍 하는 것을 습관화시켜야 한다.\n",
    "    \n",
    "    "
   ]
  },
  {
   "cell_type": "markdown",
   "metadata": {},
   "source": [
    "#### 예제4. 위의 코드를 predict라는 함수로 생성해서 아래와 같이 실행되게 하시오\n",
    "```python\n",
    "print(predict(x,w))\n",
    "-0.3\n",
    "```"
   ]
  },
  {
   "cell_type": "code",
   "execution_count": 32,
   "metadata": {
    "ExecuteTime": {
     "end_time": "2020-07-30T06:05:14.987812Z",
     "start_time": "2020-07-30T06:05:14.980817Z"
    }
   },
   "outputs": [
    {
     "data": {
      "text/plain": [
       "-0.3"
      ]
     },
     "execution_count": 32,
     "metadata": {},
     "output_type": "execute_result"
    }
   ],
   "source": [
    "def predict(x,w):\n",
    "    a = np.sum(x*w.T)\n",
    "    return a\n",
    "predict(x[0],w)"
   ]
  },
  {
   "cell_type": "markdown",
   "metadata": {},
   "source": [
    "#### 예제5. 입력값 4개의 k 값을 다 출력하시오 (for문 돌려서 생성)"
   ]
  },
  {
   "cell_type": "code",
   "execution_count": 7,
   "metadata": {
    "ExecuteTime": {
     "end_time": "2020-07-30T05:11:54.906885Z",
     "start_time": "2020-07-30T05:11:54.902886Z"
    }
   },
   "outputs": [
    {
     "name": "stdout",
     "output_type": "stream",
     "text": [
      "-0.3\n",
      "0.10000000000000003\n",
      "-0.19999999999999998\n",
      "0.20000000000000004\n"
     ]
    }
   ],
   "source": [
    "for i in range(len(x)):\n",
    "    print(predict(x[i],w.T))"
   ]
  },
  {
   "cell_type": "markdown",
   "metadata": {},
   "source": [
    "#### 예제6. 아래의 k값이 step_function 함수에 들어오면 결과로 0과 1이 출력되게 하시오"
   ]
  },
  {
   "cell_type": "code",
   "execution_count": 9,
   "metadata": {
    "ExecuteTime": {
     "end_time": "2020-07-30T05:17:27.839353Z",
     "start_time": "2020-07-30T05:17:27.834356Z"
    }
   },
   "outputs": [
    {
     "name": "stdout",
     "output_type": "stream",
     "text": [
      "-0.3 ---> 0\n",
      "0.10000000000000003 ---> 1\n",
      "-0.19999999999999998 ---> 0\n",
      "0.20000000000000004 ---> 1\n"
     ]
    }
   ],
   "source": [
    "for i in range(len(x)):\n",
    "    if predict(x[i],w)>0:\n",
    "        print(f\"{predict(x[i],w)} ---> 1\")\n",
    "    else:\n",
    "        print(f\"{predict(x[i],w)} ---> 0\")"
   ]
  },
  {
   "cell_type": "code",
   "execution_count": 19,
   "metadata": {
    "ExecuteTime": {
     "end_time": "2020-07-30T06:04:25.596460Z",
     "start_time": "2020-07-30T06:04:25.588466Z"
    }
   },
   "outputs": [
    {
     "name": "stdout",
     "output_type": "stream",
     "text": [
      "0\n",
      "1\n",
      "0\n",
      "1\n"
     ]
    }
   ],
   "source": [
    "def step_func(x):\n",
    "    y = np.array(x>0) # 입력된 값이 True, False\n",
    "    return y.astype(np.int)\n",
    "\n",
    "def predict(x,w):\n",
    "    a = np.sum(x*w.T)\n",
    "    return a\n",
    "\n",
    "for inputs in x:\n",
    "    k = predict(inputs,w)\n",
    "    print(step_func(k))"
   ]
  },
  {
   "cell_type": "markdown",
   "metadata": {},
   "source": [
    "#### 예제7. 위에서 출력된 f(k)값과 target의 차이(오차)를 출력하시오"
   ]
  },
  {
   "cell_type": "code",
   "execution_count": 20,
   "metadata": {
    "ExecuteTime": {
     "end_time": "2020-07-30T06:04:31.760989Z",
     "start_time": "2020-07-30T06:04:31.754992Z"
    }
   },
   "outputs": [
    {
     "name": "stdout",
     "output_type": "stream",
     "text": [
      "[1]\n",
      "[0]\n",
      "[1]\n",
      "[0]\n"
     ]
    }
   ],
   "source": [
    "target = np.array([0,0,0,1]).reshape(4,1)\n",
    "for inputs in x:\n",
    "    k = predict(inputs, w)\n",
    "    print(target[i]-step_func(k))"
   ]
  },
  {
   "cell_type": "markdown",
   "metadata": {},
   "source": [
    "#### 예제8. predict 함수에 step_func을 포함시키시오"
   ]
  },
  {
   "cell_type": "code",
   "execution_count": 21,
   "metadata": {
    "ExecuteTime": {
     "end_time": "2020-07-30T06:04:33.997021Z",
     "start_time": "2020-07-30T06:04:33.989025Z"
    }
   },
   "outputs": [
    {
     "name": "stdout",
     "output_type": "stream",
     "text": [
      "[0]\n",
      "[-1]\n",
      "[0]\n",
      "[0]\n"
     ]
    }
   ],
   "source": [
    "def step_func(x):\n",
    "    y = np.array(x>0) \n",
    "    return y.astype(np.int)\n",
    "\n",
    "def predict(x,w):\n",
    "    a = np.sum(x*w.T)\n",
    "    return step_func(a)\n",
    "\n",
    "for i in range(len(x)):\n",
    "    cost = target[i] - predict(x[i],w)\n",
    "    print(cost)"
   ]
  },
  {
   "cell_type": "markdown",
   "metadata": {},
   "source": [
    "#### 예제9. 위의 코드에 가중치 w값을 갱신하는 아래의 식을 추가하고 갱신되는 가중치 w를 출력한다"
   ]
  },
  {
   "cell_type": "code",
   "execution_count": 40,
   "metadata": {
    "ExecuteTime": {
     "end_time": "2020-07-30T06:08:50.031886Z",
     "start_time": "2020-07-30T06:08:50.020891Z"
    }
   },
   "outputs": [
    {
     "name": "stdout",
     "output_type": "stream",
     "text": [
      "[[0.3]\n",
      " [0.4]\n",
      " [0.1]]\n",
      "[[0.35]\n",
      " [0.35]\n",
      " [0.1 ]]\n",
      "[[0.35]\n",
      " [0.35]\n",
      " [0.1 ]]\n",
      "[[0.35]\n",
      " [0.35]\n",
      " [0.1 ]]\n"
     ]
    }
   ],
   "source": [
    "import numpy as np\n",
    "x = np.array([-1,0,0,-1,1,0,-1,0,1,-1,1,1]).reshape(4,3)\n",
    "w = np.array([0.3,0.4,0.1]).reshape(3,1)\n",
    "\n",
    "def step_func(x):\n",
    "    y = np.array(x>0) \n",
    "    return y.astype(np.int)\n",
    "\n",
    "def predict(x,w):\n",
    "    a = np.sum(x*w.T)\n",
    "    return step_func(a)\n",
    "\n",
    "lr = 0.05\n",
    "for i in range(len(x)):\n",
    "    cost = target[i] - predict(x[i],w)\n",
    "#     print(w.shape)\n",
    "    w = w + np.array([lr * x[i] * cost]).T\n",
    "#     print(np.array([lr*x[i]*cost]).shape)\n",
    "    print(w)"
   ]
  },
  {
   "cell_type": "markdown",
   "metadata": {},
   "source": [
    "#### 예제10. 가중치가 더이상 갱신되지 않을 때 멈출 수 있도록 하시오"
   ]
  },
  {
   "cell_type": "code",
   "execution_count": 43,
   "metadata": {
    "ExecuteTime": {
     "end_time": "2020-07-30T06:27:22.199468Z",
     "start_time": "2020-07-30T06:27:22.187476Z"
    }
   },
   "outputs": [
    {
     "name": "stdout",
     "output_type": "stream",
     "text": [
      "[[0.4]\n",
      " [0.3]\n",
      " [0.1]]\n"
     ]
    }
   ],
   "source": [
    "import numpy as np\n",
    "x = np.array([-1,0,0,-1,1,0,-1,0,1,-1,1,1]).reshape(4,3)\n",
    "w = np.array([0.3,0.4,0.1]).reshape(3,1)\n",
    "target = np.array([0,0,0,1]).reshape(4,1)\n",
    "\n",
    "def step_func(x):\n",
    "    y = np.array(x>0) \n",
    "    return y.astype(np.int)\n",
    "\n",
    "def predict(x,w):\n",
    "    a = np.sum(x*w.T)\n",
    "    return step_func(a)\n",
    "\n",
    "lr = 0.05\n",
    "while 1:\n",
    "    cnt = 0\n",
    "    for i in range(len(x)):\n",
    "        cost = target[i] - predict(x[i],w)\n",
    "        if cost != 0:\n",
    "            w = w + np.array([lr * x[i] * cost]).T\n",
    "        elif cost:\n",
    "            continue\n",
    "        cnt += cost\n",
    "    if cnt == 0:\n",
    "        break\n",
    "print(w)"
   ]
  },
  {
   "cell_type": "markdown",
   "metadata": {},
   "source": [
    "### ※ 문제21. 위의 코드를 이용해서 and_pcn이라는 함수를 생성하시오\n",
    "```python\n",
    "print(and_pcn(x,t))\n",
    "[[0.4]\n",
    " [0.3]\n",
    " [0.1]]\n",
    "```"
   ]
  },
  {
   "cell_type": "code",
   "execution_count": 45,
   "metadata": {
    "ExecuteTime": {
     "end_time": "2020-07-30T06:31:52.191958Z",
     "start_time": "2020-07-30T06:31:52.157980Z"
    }
   },
   "outputs": [
    {
     "data": {
      "text/plain": [
       "array([[ 0.65165719],\n",
       "       [-0.31662686],\n",
       "       [ 0.78514216]])"
      ]
     },
     "execution_count": 45,
     "metadata": {},
     "output_type": "execute_result"
    }
   ],
   "source": [
    "import numpy as np\n",
    "x = np.array([-1,0,0,-1,1,0,-1,0,1,-1,1,1]).reshape(4,3)\n",
    "w = np.array([0.3,0.4,0.1]).reshape(3,1)\n",
    "target = np.array([0,0,0,1]).reshape(4,1)\n",
    "\n",
    "def and_pcn(x,t):\n",
    "    w = np.random.randn(3,1)\n",
    "    \n",
    "    def step_func(x):\n",
    "        y = np.array(x>0) \n",
    "        return y.astype(np.int)\n",
    "\n",
    "    def predict(x,w):\n",
    "        a = np.sum(x*w.T)\n",
    "        return step_func(a)\n",
    "\n",
    "    lr = 0.05\n",
    "    while 1:\n",
    "        cnt = 0\n",
    "        for i in range(len(x)):\n",
    "            cost = t[i] - predict(x[i],w)\n",
    "            if cost != 0:\n",
    "                w = w + np.array([lr * x[i] * cost]).T\n",
    "            elif cost:\n",
    "                continue\n",
    "            cnt += cost\n",
    "        if cnt == 0:\n",
    "            break\n",
    "    return w\n",
    "\n",
    "and_pcn(x,target)"
   ]
  },
  {
   "cell_type": "markdown",
   "metadata": {},
   "source": [
    "### ※ 문제22. 위의 함수를 모듈로 만들어서 아래와 같이 실행될 수 있게 하시오\n",
    "```python\n",
    "import pcn\n",
    "```"
   ]
  },
  {
   "cell_type": "code",
   "execution_count": 45,
   "metadata": {
    "ExecuteTime": {
     "end_time": "2020-07-30T06:31:52.191958Z",
     "start_time": "2020-07-30T06:31:52.157980Z"
    }
   },
   "outputs": [
    {
     "data": {
      "text/plain": [
       "array([[ 0.65165719],\n",
       "       [-0.31662686],\n",
       "       [ 0.78514216]])"
      ]
     },
     "execution_count": 45,
     "metadata": {},
     "output_type": "execute_result"
    }
   ],
   "source": [
    "import numpy as np\n",
    "x = np.array([-1,0,0,-1,1,0,-1,0,1,-1,1,1]).reshape(4,3)\n",
    "w = np.array([0.3,0.4,0.1]).reshape(3,1)\n",
    "target = np.array([0,0,0,1]).reshape(4,1)\n",
    "\n",
    "def pcn(x,t):\n",
    "    w = np.random.randn(3,1)\n",
    "    \n",
    "    def step_func(x):\n",
    "        y = np.array(x>0) \n",
    "        return y.astype(np.int)\n",
    "\n",
    "    def predict(x,w):\n",
    "        a = np.sum(x*w.T)\n",
    "        return step_func(a)\n",
    "\n",
    "    lr = 0.05\n",
    "    while 1:\n",
    "        cnt = 0\n",
    "        for i in range(len(x)):\n",
    "            cost = t[i] - predict(x[i],w)\n",
    "            if cost != 0:\n",
    "                w = w + np.array([lr * x[i] * cost]).T\n",
    "            elif cost:\n",
    "                continue\n",
    "            cnt += cost\n",
    "        if cnt == 0:\n",
    "            break\n",
    "    return w\n",
    "\n",
    "and_pcn(x,target)"
   ]
  }
 ],
 "metadata": {
  "kernelspec": {
   "display_name": "Python 3",
   "language": "python",
   "name": "python3"
  },
  "language_info": {
   "codemirror_mode": {
    "name": "ipython",
    "version": 3
   },
   "file_extension": ".py",
   "mimetype": "text/x-python",
   "name": "python",
   "nbconvert_exporter": "python",
   "pygments_lexer": "ipython3",
   "version": "3.7.6"
  },
  "toc": {
   "base_numbering": 1,
   "nav_menu": {},
   "number_sections": true,
   "sideBar": true,
   "skip_h1_title": false,
   "title_cell": "Table of Contents",
   "title_sidebar": "Contents",
   "toc_cell": false,
   "toc_position": {},
   "toc_section_display": true,
   "toc_window_display": false
  },
  "varInspector": {
   "cols": {
    "lenName": 16,
    "lenType": 16,
    "lenVar": 40
   },
   "kernels_config": {
    "python": {
     "delete_cmd_postfix": "",
     "delete_cmd_prefix": "del ",
     "library": "var_list.py",
     "varRefreshCmd": "print(var_dic_list())"
    },
    "r": {
     "delete_cmd_postfix": ") ",
     "delete_cmd_prefix": "rm(",
     "library": "var_list.r",
     "varRefreshCmd": "cat(var_dic_list()) "
    }
   },
   "types_to_exclude": [
    "module",
    "function",
    "builtin_function_or_method",
    "instance",
    "_Feature"
   ],
   "window_display": false
  }
 },
 "nbformat": 4,
 "nbformat_minor": 4
}

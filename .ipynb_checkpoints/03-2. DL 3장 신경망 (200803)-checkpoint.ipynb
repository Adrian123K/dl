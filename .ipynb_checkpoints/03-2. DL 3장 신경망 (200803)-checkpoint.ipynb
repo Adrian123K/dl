{
 "cells": [
  {
   "cell_type": "markdown",
   "metadata": {},
   "source": [
    "## <b>■ 3장. 신경망</b>\n",
    "    신경망 안에 들어가는 함수 소개\n",
    "        1. 활상화 함수\n",
    "            - 계단함수\n",
    "            - 시그모이드 함수\n",
    "            -  ReLU 함수\n",
    "        2. 출력층 함수\n",
    "            - 항등 함수\n",
    "            - 소프트맥스 함수\n",
    "        3. 오차함수\n",
    "        \n",
    "    이 책은 전부 파이썬 날코딩으로 일일이 신경망을 만든다.\n",
    "    그리고서 나중에 tensorflow나 pytorch 사용해야 이해하면서 코딩할 수 있다.\n",
    "    \n",
    "### <b>■ 계단함수 (p.69)</b>\n",
    "    숫자 0과 1을 리턴하는 함수\n",
    "        x <= 0 -> return 0\n",
    "        x >0   -> return 1"
   ]
  },
  {
   "cell_type": "markdown",
   "metadata": {},
   "source": [
    "### ※ 문제23. 계단함수를 파이썬으로 구현하시오"
   ]
  },
  {
   "cell_type": "code",
   "execution_count": 2,
   "metadata": {
    "ExecuteTime": {
     "end_time": "2020-08-03T04:59:04.963949Z",
     "start_time": "2020-08-03T04:59:04.958952Z"
    }
   },
   "outputs": [
    {
     "name": "stdout",
     "output_type": "stream",
     "text": [
      "[0 0 1]\n"
     ]
    }
   ],
   "source": [
    "def step_function(x):\n",
    "    y = x > 0\n",
    "    return y.astype(int)\n",
    "import numpy as np\n",
    "\n",
    "x_data = np.array([-1,0,1])\n",
    "print(step_function(x_data))"
   ]
  },
  {
   "cell_type": "code",
   "execution_count": null,
   "metadata": {},
   "outputs": [],
   "source": []
  },
  {
   "cell_type": "code",
   "execution_count": null,
   "metadata": {},
   "outputs": [],
   "source": []
  },
  {
   "cell_type": "code",
   "execution_count": null,
   "metadata": {},
   "outputs": [],
   "source": []
  },
  {
   "cell_type": "code",
   "execution_count": null,
   "metadata": {},
   "outputs": [],
   "source": []
  }
 ],
 "metadata": {
  "kernelspec": {
   "display_name": "Python 3",
   "language": "python",
   "name": "python3"
  },
  "language_info": {
   "codemirror_mode": {
    "name": "ipython",
    "version": 3
   },
   "file_extension": ".py",
   "mimetype": "text/x-python",
   "name": "python",
   "nbconvert_exporter": "python",
   "pygments_lexer": "ipython3",
   "version": "3.7.6"
  },
  "toc": {
   "base_numbering": 1,
   "nav_menu": {},
   "number_sections": true,
   "sideBar": true,
   "skip_h1_title": false,
   "title_cell": "Table of Contents",
   "title_sidebar": "Contents",
   "toc_cell": false,
   "toc_position": {},
   "toc_section_display": true,
   "toc_window_display": false
  },
  "varInspector": {
   "cols": {
    "lenName": 16,
    "lenType": 16,
    "lenVar": 40
   },
   "kernels_config": {
    "python": {
     "delete_cmd_postfix": "",
     "delete_cmd_prefix": "del ",
     "library": "var_list.py",
     "varRefreshCmd": "print(var_dic_list())"
    },
    "r": {
     "delete_cmd_postfix": ") ",
     "delete_cmd_prefix": "rm(",
     "library": "var_list.r",
     "varRefreshCmd": "cat(var_dic_list()) "
    }
   },
   "types_to_exclude": [
    "module",
    "function",
    "builtin_function_or_method",
    "instance",
    "_Feature"
   ],
   "window_display": false
  }
 },
 "nbformat": 4,
 "nbformat_minor": 4
}

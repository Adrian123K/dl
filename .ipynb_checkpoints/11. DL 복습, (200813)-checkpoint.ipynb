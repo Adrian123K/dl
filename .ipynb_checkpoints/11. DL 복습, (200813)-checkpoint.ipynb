{
 "cells": [
  {
   "cell_type": "markdown",
   "metadata": {},
   "source": [
    "## <b>■ 복습</b>\n",
    "    1장\n",
    "    2장\n",
    "    3장\n",
    "    4장\n",
    "    5장\n",
    "    6장\n",
    "    7장. CNN + Fully Connected\n",
    "        Image -----> Convolution ----------------> Pooling ----------------> Fully Connected\n",
    "                     여러개의 Feature map           Feature map 선명하게             분류\n",
    "                     이미지의 특징 추출\n",
    "                              ↓                            ↓                       ↓\n",
    "                     Convolution class 생성         Pooling class 생성        5장 오차역전파 3층 신경망  \n",
    "    \n",
    "    8장. 딥러닝의 역사\n",
    "![hist](http://cfile252.uf.daum.net/image/992CCB4F5F3472F40F4BEF)\n",
    "![hist2](http://cfile253.uf.daum.net/image/9969A7455F3473150F3FDF)\n",
    "\n",
    "## <b>■ 밑바닥 딥러닝 책 최종 스크립트의 큰 그림</b>\n",
    "### <b>□ 필기체 데이터를 CNN 신경망에 넣어서 학습시키는 그림</b>\n",
    "![learn1](learn1.png)\n",
    "![learn2](http://cfile249.uf.daum.net/image/99BA49355F3465D00CD4EA)"
   ]
  },
  {
   "cell_type": "code",
   "execution_count": null,
   "metadata": {},
   "outputs": [],
   "source": []
  },
  {
   "cell_type": "code",
   "execution_count": null,
   "metadata": {},
   "outputs": [],
   "source": []
  },
  {
   "cell_type": "code",
   "execution_count": null,
   "metadata": {},
   "outputs": [],
   "source": []
  },
  {
   "cell_type": "code",
   "execution_count": null,
   "metadata": {},
   "outputs": [],
   "source": []
  },
  {
   "cell_type": "code",
   "execution_count": null,
   "metadata": {},
   "outputs": [],
   "source": []
  },
  {
   "cell_type": "code",
   "execution_count": null,
   "metadata": {},
   "outputs": [],
   "source": []
  },
  {
   "cell_type": "code",
   "execution_count": null,
   "metadata": {},
   "outputs": [],
   "source": []
  }
 ],
 "metadata": {
  "kernelspec": {
   "display_name": "Python 3",
   "language": "python",
   "name": "python3"
  },
  "language_info": {
   "codemirror_mode": {
    "name": "ipython",
    "version": 3
   },
   "file_extension": ".py",
   "mimetype": "text/x-python",
   "name": "python",
   "nbconvert_exporter": "python",
   "pygments_lexer": "ipython3",
   "version": "3.7.6"
  },
  "toc": {
   "base_numbering": 1,
   "nav_menu": {},
   "number_sections": true,
   "sideBar": true,
   "skip_h1_title": false,
   "title_cell": "Table of Contents",
   "title_sidebar": "Contents",
   "toc_cell": false,
   "toc_position": {},
   "toc_section_display": true,
   "toc_window_display": false
  },
  "varInspector": {
   "cols": {
    "lenName": 16,
    "lenType": 16,
    "lenVar": 40
   },
   "kernels_config": {
    "python": {
     "delete_cmd_postfix": "",
     "delete_cmd_prefix": "del ",
     "library": "var_list.py",
     "varRefreshCmd": "print(var_dic_list())"
    },
    "r": {
     "delete_cmd_postfix": ") ",
     "delete_cmd_prefix": "rm(",
     "library": "var_list.r",
     "varRefreshCmd": "cat(var_dic_list()) "
    }
   },
   "types_to_exclude": [
    "module",
    "function",
    "builtin_function_or_method",
    "instance",
    "_Feature"
   ],
   "window_display": false
  }
 },
 "nbformat": 4,
 "nbformat_minor": 4
}

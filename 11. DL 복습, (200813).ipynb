{
 "cells": [
  {
   "cell_type": "markdown",
   "metadata": {},
   "source": [
    "## <b>■ 복습</b>\n",
    "    1장\n",
    "    2장\n",
    "    3장\n",
    "    4장\n",
    "    5장\n",
    "    6장\n",
    "    7장. CNN + Fully Connected\n",
    "        Image -----> Convolution ----------------> Pooling ----------------> Fully Connected\n",
    "                     여러개의 Feature map           Feature map 선명하게             분류\n",
    "                     이미지의 특징 추출\n",
    "                              ↓                            ↓                       ↓\n",
    "                     Convolution class 생성         Pooling class 생성        5장 오차역전파 3층 신경망  \n",
    "    \n",
    "    8장. 딥러닝의 역사\n",
    "![hist](http://cfile252.uf.daum.net/image/992CCB4F5F3472F40F4BEF)\n",
    "![hist2](http://cfile253.uf.daum.net/image/9969A7455F3473150F3FDF)\n",
    "\n",
    "## <b>■ 밑바닥 딥러닝 책 최종 스크립트의 큰 그림</b>\n",
    "### <b>□ 필기체 데이터를 CNN 신경망에 넣어서 학습시키는 그림</b>\n",
    "![learn1](learn1.png)\n",
    "![learn2](http://cfile249.uf.daum.net/image/99BA49355F3465D00CD4EA)"
   ]
  },
  {
   "cell_type": "markdown",
   "metadata": {
    "ExecuteTime": {
     "end_time": "2020-08-13T02:01:50.555036Z",
     "start_time": "2020-08-13T02:01:50.529051Z"
    }
   },
   "source": [
    "<b>첫번째 그림</b>\n",
    "#### 예제1. 28x28 필기체 데이터 100장을 생성"
   ]
  },
  {
   "cell_type": "code",
   "execution_count": 8,
   "metadata": {
    "ExecuteTime": {
     "end_time": "2020-08-13T02:06:55.424832Z",
     "start_time": "2020-08-13T02:06:55.417835Z"
    },
    "scrolled": true
   },
   "outputs": [
    {
     "name": "stdout",
     "output_type": "stream",
     "text": [
      "(100, 1, 28, 28)\n"
     ]
    }
   ],
   "source": [
    "import numpy as np\n",
    "x = np.random.randn(100,1,28,28)\n",
    "print(x.shape)"
   ]
  },
  {
   "cell_type": "markdown",
   "metadata": {},
   "source": [
    "#### 예제2. 5x5 필터 30장 생성"
   ]
  },
  {
   "cell_type": "code",
   "execution_count": 3,
   "metadata": {
    "ExecuteTime": {
     "end_time": "2020-08-13T02:03:33.445138Z",
     "start_time": "2020-08-13T02:03:33.440142Z"
    }
   },
   "outputs": [
    {
     "name": "stdout",
     "output_type": "stream",
     "text": [
      "(30, 1, 5, 5)\n"
     ]
    }
   ],
   "source": [
    "w1 = np.random.randn(30,1,5,5)\n",
    "print(w1.shape)"
   ]
  },
  {
   "cell_type": "markdown",
   "metadata": {},
   "source": [
    "#### 예제3. 위에서 만든 입력값 x와 필터 w1을 합성곱한 feature map을 생성하고 shape를 확인하시오"
   ]
  },
  {
   "cell_type": "code",
   "execution_count": 4,
   "metadata": {
    "ExecuteTime": {
     "end_time": "2020-08-13T02:05:59.112757Z",
     "start_time": "2020-08-13T02:05:59.097767Z"
    }
   },
   "outputs": [],
   "source": [
    "def im2col(input_data, filter_h, filter_w, stride=1, pad=0):\n",
    "    N, C, H, W = input_data.shape\n",
    "    out_h = (H + 2 * pad - filter_h) // stride + 1\n",
    "    out_w = (W + 2 * pad - filter_w) // stride + 1\n",
    "\n",
    "    img = np.pad(input_data, [(0, 0), (0, 0), (pad, pad), (pad, pad)], 'constant')\n",
    "    col = np.zeros((N, C, filter_h, filter_w, out_h, out_w))\n",
    "\n",
    "    for y in range(filter_h):\n",
    "        y_max = y + stride * out_h\n",
    "        for x in range(filter_w):\n",
    "            x_max = x + stride * out_w\n",
    "            col[:, :, y, x, :, :] = img[:, :, y:y_max:stride, x:x_max:stride]\n",
    "\n",
    "    col = col.transpose(0, 4, 5, 1, 2, 3).reshape(N * out_h * out_w, -1)\n",
    "    return col\n",
    "\n",
    "class Convolution:\n",
    "    def __init__(self, W, b, stride=1, pad=0):\n",
    "        self.W = W\n",
    "        self.b = b\n",
    "        self.stride = stride\n",
    "        self.pad = pad\n",
    "        \n",
    "    def forward(self, x):\n",
    "        FN, C, FH, FW = self.W.shape\n",
    "        N, C, H, W = x.shape\n",
    "        out_h = int(1+ (H+ 2*self.pad - FH) / self.stride)\n",
    "        out_w = int(1+ (W+ 2*self.pad - FW) / self.stride)\n",
    "        \n",
    "        col = im2col(x, FH, FW, self.stride, self.pad)\n",
    "        col_W = self.W.reshape(FN, -1).T\n",
    "        out = np.dot(col, col_W) + self.b\n",
    "        \n",
    "        out = out.reshape(N, out_h, out_w, -1).transpose(0,3,1,2)\n",
    "        \n",
    "        return out"
   ]
  },
  {
   "cell_type": "code",
   "execution_count": 10,
   "metadata": {
    "ExecuteTime": {
     "end_time": "2020-08-13T02:09:39.935089Z",
     "start_time": "2020-08-13T02:09:39.893116Z"
    }
   },
   "outputs": [
    {
     "name": "stdout",
     "output_type": "stream",
     "text": [
      "(100, 30, 24, 24)\n"
     ]
    }
   ],
   "source": [
    "b1 = 1\n",
    "con = Convolution(w1, b1)\n",
    "feature_map = con.forward(x)\n",
    "print(feature_map.shape)"
   ]
  },
  {
   "cell_type": "markdown",
   "metadata": {},
   "source": [
    "#### 예제4. Convolution 계층을 통과한 output을 pooling 계층에 통과시키고 나온 output 사이즈를 확인하시오"
   ]
  },
  {
   "cell_type": "code",
   "execution_count": 11,
   "metadata": {
    "ExecuteTime": {
     "end_time": "2020-08-13T02:12:32.005939Z",
     "start_time": "2020-08-13T02:12:31.996945Z"
    }
   },
   "outputs": [],
   "source": [
    "class Pooling:\n",
    "    def __init__(self, pool_h, pool_w, stride=1, pad=0):\n",
    "        self.pool_h = pool_h\n",
    "        self.pool_w = pool_w\n",
    "        self.stride = stride\n",
    "        self.pad = pad\n",
    "\n",
    "    def forward(self, x):\n",
    "        N, C, H, W = x.shape\n",
    "        out_h = int(1 + (H - self.pool_h) / self.stride)\n",
    "        out_w = int(1 + (W - self.pool_w) / self.stride)\n",
    "\n",
    "        col = im2col(x, self.pool_h, self.pool_w, self.stride, self.pad)\n",
    "        col = col.reshape(-1, self.pool_h*self.pool_w)\n",
    "        \n",
    "        out = np.max(col, axis=1)\n",
    "        out = out.reshape(N, out_h, out_w, C).transpose(0, 3, 1, 2)\n",
    "\n",
    "        return out"
   ]
  },
  {
   "cell_type": "code",
   "execution_count": 12,
   "metadata": {
    "ExecuteTime": {
     "end_time": "2020-08-13T02:17:13.187014Z",
     "start_time": "2020-08-13T02:17:13.132049Z"
    }
   },
   "outputs": [
    {
     "name": "stdout",
     "output_type": "stream",
     "text": [
      "(100, 30, 12, 12)\n"
     ]
    }
   ],
   "source": [
    "pool = Pooling(2,2,stride=2)\n",
    "pool_out = pool.forward(feature_map)\n",
    "print(pool_out.shape)"
   ]
  },
  {
   "cell_type": "markdown",
   "metadata": {},
   "source": [
    "#### 예제5. 위의 pooling계층을 통과한 출력 데이터가 완전 연결계층에 들어가서 가중치와 내적할 수 있도록 가중치 w2를 생성하시오"
   ]
  },
  {
   "cell_type": "code",
   "execution_count": 14,
   "metadata": {
    "ExecuteTime": {
     "end_time": "2020-08-13T02:21:41.828693Z",
     "start_time": "2020-08-13T02:21:41.807706Z"
    }
   },
   "outputs": [],
   "source": [
    "w2 = np.random.randn(30*12*12, 100)"
   ]
  },
  {
   "cell_type": "markdown",
   "metadata": {},
   "source": [
    "#### 예제6. 완전 연결계층의 w2와 내적한 후 더하기 할 b2를 생성하시오"
   ]
  },
  {
   "cell_type": "code",
   "execution_count": 13,
   "metadata": {
    "ExecuteTime": {
     "end_time": "2020-08-13T02:21:07.210218Z",
     "start_time": "2020-08-13T02:21:07.205221Z"
    }
   },
   "outputs": [],
   "source": [
    "b2 = np.zeros(100)"
   ]
  },
  {
   "cell_type": "markdown",
   "metadata": {},
   "source": [
    "#### 예제7. 완전연결 계층의 마지막 출력층인 w3와 b3를 각각 생성하시오"
   ]
  },
  {
   "cell_type": "code",
   "execution_count": 17,
   "metadata": {
    "ExecuteTime": {
     "end_time": "2020-08-13T02:31:46.707922Z",
     "start_time": "2020-08-13T02:31:46.701926Z"
    }
   },
   "outputs": [
    {
     "name": "stdout",
     "output_type": "stream",
     "text": [
      "(100, 10)\n"
     ]
    }
   ],
   "source": [
    "w3 = np.random.randn(100,10)\n",
    "b3 = np.zeros(10)\n",
    "print(w3.shape)"
   ]
  },
  {
   "cell_type": "markdown",
   "metadata": {},
   "source": [
    "#### 예제8. pooling층을 통과한 pool_out이 완전연결계층으로 들어가서 나온 결과 shape를 출력하시오"
   ]
  },
  {
   "cell_type": "code",
   "execution_count": 19,
   "metadata": {
    "ExecuteTime": {
     "end_time": "2020-08-13T02:32:24.517809Z",
     "start_time": "2020-08-13T02:32:24.507814Z"
    }
   },
   "outputs": [
    {
     "name": "stdout",
     "output_type": "stream",
     "text": [
      "(100, 10)\n"
     ]
    }
   ],
   "source": [
    "pool_out2 = pool_out.reshape(100,-1)\n",
    "fully_out1 = np.dot(pool_out2, w2) + b2\n",
    "fully_out2 = np.dot(fully_out1, w3) + b3\n",
    "print(fully_out2.shape)"
   ]
  },
  {
   "cell_type": "code",
   "execution_count": null,
   "metadata": {},
   "outputs": [],
   "source": []
  },
  {
   "cell_type": "code",
   "execution_count": null,
   "metadata": {},
   "outputs": [],
   "source": []
  }
 ],
 "metadata": {
  "kernelspec": {
   "display_name": "Python 3",
   "language": "python",
   "name": "python3"
  },
  "language_info": {
   "codemirror_mode": {
    "name": "ipython",
    "version": 3
   },
   "file_extension": ".py",
   "mimetype": "text/x-python",
   "name": "python",
   "nbconvert_exporter": "python",
   "pygments_lexer": "ipython3",
   "version": "3.7.6"
  },
  "toc": {
   "base_numbering": 1,
   "nav_menu": {},
   "number_sections": true,
   "sideBar": true,
   "skip_h1_title": false,
   "title_cell": "Table of Contents",
   "title_sidebar": "Contents",
   "toc_cell": false,
   "toc_position": {},
   "toc_section_display": true,
   "toc_window_display": false
  },
  "varInspector": {
   "cols": {
    "lenName": 16,
    "lenType": 16,
    "lenVar": 40
   },
   "kernels_config": {
    "python": {
     "delete_cmd_postfix": "",
     "delete_cmd_prefix": "del ",
     "library": "var_list.py",
     "varRefreshCmd": "print(var_dic_list())"
    },
    "r": {
     "delete_cmd_postfix": ") ",
     "delete_cmd_prefix": "rm(",
     "library": "var_list.r",
     "varRefreshCmd": "cat(var_dic_list()) "
    }
   },
   "types_to_exclude": [
    "module",
    "function",
    "builtin_function_or_method",
    "instance",
    "_Feature"
   ],
   "window_display": false
  }
 },
 "nbformat": 4,
 "nbformat_minor": 4
}

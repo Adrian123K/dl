{
 "cells": [
  {
   "cell_type": "markdown",
   "metadata": {},
   "source": [
    "# <b>■ 딥러닝 수업</b>\n",
    "    딥러닝으로 할 수 있는 것\n",
    "    \n",
    "    인공지능의 눈 : CNN\n",
    "        예) 불량품 선별, 미술작품 스타일 변환, 의료질병 판별 등\n",
    "    \n",
    "    인공지능의 입과 귀 : RNN\n",
    "        예) 시계열 신경망을 만들어서 주가 예측, 번역, 작곡, 챗봇개발 등\n",
    "        \n",
    "## <b>■ 딥러닝이란</b>\n",
    "    Wikipedia : 여러 비선형변환 기법의 조합을 통해 높은 수준의 추상화를 시도하는 기계학습 알고리즘의 한 종류\n",
    "    \n",
    "    머신러닝의 종류 3가지\n",
    "        1. 지도학습\n",
    "            신경망 (층이 깊은 신경망을 딥러닝이라 한다)\n",
    "            \n",
    "        2. 비지도학습\n",
    "        3. 강화학습\n",
    "        \n",
    "    머신러닝과 딥러닝의 차이\n",
    "        * 머신러닝으로 기계를 학습시키려면 정형화된 데이터가 있어야 한다.\n",
    "                                  ↓\n",
    "          정형화된 데이터를 만들려고 판다스를 공부했다.\n",
    "              정형화된 데이터를 만드는 것이 상당한 노동력이 들어가는 일이다.\n",
    "    \n",
    "        * 딥러닝은 이미지를 신경망에 보여주기만 한다. 스스로 학습을 해서 그 이미지를 알아볼 수 있는 상태가 되는 것.\n",
    "\n",
    "<center><b>머신러닝</b></center>\n",
    "\n",
    "![머신러닝](http://cfile295.uf.daum.net/image/21970D33596B26A801530F)\n",
    "<br><br>\n",
    "<center><b>딥러닝</b></center>\n",
    "\n",
    "![딥러닝](http://cfile271.uf.daum.net/image/214E0D33596B2682078B1D)\n",
    "\n",
    "## <b>■ 딥러닝 기술을 이용해서 현업에서 하고 있는 일들</b>\n",
    "    1. 공항에서 물품 검색대에 물건을 CNN으로 판별하여 위반되는 물품이 있는지 검사하는 신경망 개발\n",
    "    2. 의료쪽에서는 x-ray 사진과 의료영상 사진의 질병 여부를 컴퓨터가 판별\n",
    "    3. 물품(의류, 섬유 등)의 불량품을 판별하는 신경망 개발 + 인터페이스\n",
    "    4. 자율 주행 자동차에서의 사물 인식\n",
    "    5. 주가 예측 신경망 개발\n",
    "    6. 외국어 번역 신경망\n",
    "    7. 인공지능 변호사 (법률책 -> 신경망 -> 판결)\n",
    "    8. 음악 작곡 신경망 (Gan) -> Amazon 키보드\n",
    "    \n",
    "## <b>■ Numpy 배열 생성하기 </b>\n",
    "    numpy : python 언어에서 기본적으로 지원하지 않는 배열(array) 혹은 행렬(matrix)의 계산을 쉽게 해주는 라이브러리\n",
    "            머신러닝에서 많이 사용하는 선형대수학에 관련된 수식들을 python에서 쉽게 프로그래밍 할 수 있게 해준다."
   ]
  },
  {
   "cell_type": "markdown",
   "metadata": {},
   "source": [
    "### ※ 문제1. 아래의 행렬을 numpy로 만드시오"
   ]
  },
  {
   "cell_type": "code",
   "execution_count": 2,
   "metadata": {
    "ExecuteTime": {
     "end_time": "2020-07-29T02:07:21.615591Z",
     "start_time": "2020-07-29T02:07:21.599600Z"
    }
   },
   "outputs": [
    {
     "data": {
      "text/plain": [
       "array([[1, 2],\n",
       "       [3, 4]])"
      ]
     },
     "execution_count": 2,
     "metadata": {},
     "output_type": "execute_result"
    }
   ],
   "source": [
    "import numpy as np\n",
    "a=[1,2,3,4]\n",
    "a = np.array(a).reshape((2,2))\n",
    "a"
   ]
  },
  {
   "cell_type": "markdown",
   "metadata": {},
   "source": [
    "### ※ 문제2. 위의 a 행렬의 각 요소에 숫자 5를 더하시오"
   ]
  },
  {
   "cell_type": "code",
   "execution_count": 3,
   "metadata": {
    "ExecuteTime": {
     "end_time": "2020-07-29T02:14:36.715631Z",
     "start_time": "2020-07-29T02:14:36.709633Z"
    }
   },
   "outputs": [
    {
     "data": {
      "text/plain": [
       "array([[6, 7],\n",
       "       [8, 9]])"
      ]
     },
     "execution_count": 3,
     "metadata": {},
     "output_type": "execute_result"
    }
   ],
   "source": [
    "a+5"
   ]
  },
  {
   "cell_type": "markdown",
   "metadata": {},
   "source": [
    "    numpy에서는 형상이 다른 배열끼리도 계산을 할 수 있다.\n",
    "    위의 경우처럼 숫자 5가 2x2 행렬로 확대된 후 연산이 이루어지는 것을 브로드캐스트(broadcast)라고 한다.\n",
    "    numpy가 제공하는 브로드캐스트 기능 덕분에 형상이 다른 배열끼리 연산을 스마트하게 할 수 있다."
   ]
  },
  {
   "cell_type": "markdown",
   "metadata": {},
   "source": [
    "### ※ 문제3. 아래의 브로드캐스트 기능을 numpy로 구현하시오\n",
    "![fig](dl_images/fig1-1.png)"
   ]
  },
  {
   "cell_type": "code",
   "execution_count": 4,
   "metadata": {
    "ExecuteTime": {
     "end_time": "2020-07-29T02:26:13.751087Z",
     "start_time": "2020-07-29T02:26:13.746090Z"
    }
   },
   "outputs": [
    {
     "data": {
      "text/plain": [
       "array([[10, 20],\n",
       "       [30, 40]])"
      ]
     },
     "execution_count": 4,
     "metadata": {},
     "output_type": "execute_result"
    }
   ],
   "source": [
    "a*10"
   ]
  },
  {
   "cell_type": "markdown",
   "metadata": {},
   "source": [
    "### ※ 문제4. 아래의 행렬식을 numpy로 구현하시오\n",
    "$$\\begin{pmatrix}\n",
    "    1 & 3 & 7 \\\\\n",
    "    1 & 0 & 0 \\\\\n",
    "    \\end{pmatrix}+\n",
    "    \\begin{pmatrix}\n",
    "    0 & 0 & 5 \\\\\n",
    "    7 & 5 & 0 \\\\\n",
    "    \\end{pmatrix}\n",
    "    $$"
   ]
  },
  {
   "cell_type": "code",
   "execution_count": 5,
   "metadata": {
    "ExecuteTime": {
     "end_time": "2020-07-29T02:29:01.870492Z",
     "start_time": "2020-07-29T02:29:01.861497Z"
    }
   },
   "outputs": [
    {
     "data": {
      "text/plain": [
       "array([[ 1,  3, 12],\n",
       "       [ 8,  5,  0]])"
      ]
     },
     "execution_count": 5,
     "metadata": {},
     "output_type": "execute_result"
    }
   ],
   "source": [
    "import numpy as np\n",
    "a = np.array([1,3,7,1,0,0]).reshape((2,3))\n",
    "b = np.array([0,0,5,7,5,0]).reshape((2,3))\n",
    "a+b"
   ]
  },
  {
   "cell_type": "markdown",
   "metadata": {},
   "source": [
    "### ※ 문제5. 아래의 신경망을 numpy 행렬로 구현하시오\n",
    "![nn](http://cfile259.uf.daum.net/image/991EF1435F21002809FD5B)"
   ]
  },
  {
   "cell_type": "code",
   "execution_count": 7,
   "metadata": {
    "ExecuteTime": {
     "end_time": "2020-07-29T04:52:39.557347Z",
     "start_time": "2020-07-29T04:52:39.551350Z"
    }
   },
   "outputs": [
    {
     "data": {
      "text/plain": [
       "36"
      ]
     },
     "execution_count": 7,
     "metadata": {},
     "output_type": "execute_result"
    }
   ],
   "source": [
    "import numpy as np\n",
    "a = np.array([2,4,8])\n",
    "w = np.array([4,3,2])\n",
    "k = a.dot(w)\n",
    "k"
   ]
  },
  {
   "cell_type": "markdown",
   "metadata": {},
   "source": [
    "### ※ 문제6. 아래의 신경망을 numpy 행렬로 구현하시오\n",
    "![n2n](http://cfile265.uf.daum.net/image/99DC11355F2102100AA4EC)"
   ]
  },
  {
   "cell_type": "code",
   "execution_count": 21,
   "metadata": {
    "ExecuteTime": {
     "end_time": "2020-07-29T05:09:31.898699Z",
     "start_time": "2020-07-29T05:09:31.891704Z"
    }
   },
   "outputs": [
    {
     "data": {
      "text/plain": [
       "array([ 5, 11, 17])"
      ]
     },
     "execution_count": 21,
     "metadata": {},
     "output_type": "execute_result"
    }
   ],
   "source": [
    "import numpy as np\n",
    "a = np.array([1,2])\n",
    "w = np.array([[1,3,5],[2,4,6]])\n",
    "k = a.dot(w)\n",
    "k"
   ]
  },
  {
   "cell_type": "markdown",
   "metadata": {},
   "source": [
    "### ※ 문제7. 아래의 신경망을 numpy 로 구현하시오\n"
   ]
  },
  {
   "cell_type": "code",
   "execution_count": 33,
   "metadata": {
    "ExecuteTime": {
     "end_time": "2020-07-29T05:20:58.560654Z",
     "start_time": "2020-07-29T05:20:58.552659Z"
    }
   },
   "outputs": [
    {
     "data": {
      "text/plain": [
       "array([189, 222])"
      ]
     },
     "execution_count": 33,
     "metadata": {},
     "output_type": "execute_result"
    }
   ],
   "source": [
    "import numpy as np\n",
    "a = np.array([1,2])\n",
    "w1 = np.array([[1,3,5],[2,4,6]])\n",
    "w2 = np.array([[3,4],[5,6],[7,8]])\n",
    "k = a.dot(w1)\n",
    "m = k.dot(w2)\n",
    "m"
   ]
  },
  {
   "cell_type": "markdown",
   "metadata": {},
   "source": [
    "## <b>■ Numpy N차원 배열 (p.38)</b>\n",
    "    Numpy는 1차원 배열 (1줄로 늘어선 배열) 뿐만 아니라 다차원 배열로도 작성할 수 있다."
   ]
  },
  {
   "cell_type": "code",
   "execution_count": 34,
   "metadata": {
    "ExecuteTime": {
     "end_time": "2020-07-29T05:25:22.386166Z",
     "start_time": "2020-07-29T05:25:22.380170Z"
    }
   },
   "outputs": [
    {
     "data": {
      "text/plain": [
       "(2, 2)"
      ]
     },
     "execution_count": 34,
     "metadata": {},
     "output_type": "execute_result"
    }
   ],
   "source": [
    "import numpy as np\n",
    "x = np.array([[1,2],[3,4]])\n",
    "x.shape"
   ]
  },
  {
   "cell_type": "markdown",
   "metadata": {},
   "source": [
    "### ※ 문제8. 아래와 같이 5x5행렬을 생성하시오"
   ]
  },
  {
   "cell_type": "code",
   "execution_count": 37,
   "metadata": {
    "ExecuteTime": {
     "end_time": "2020-07-29T05:27:20.836431Z",
     "start_time": "2020-07-29T05:27:20.830434Z"
    }
   },
   "outputs": [
    {
     "data": {
      "text/plain": [
       "array([[1, 2, 3, 4, 5],\n",
       "       [1, 2, 3, 4, 5],\n",
       "       [1, 2, 3, 4, 5],\n",
       "       [1, 2, 3, 4, 5],\n",
       "       [1, 2, 3, 4, 5]])"
      ]
     },
     "execution_count": 37,
     "metadata": {},
     "output_type": "execute_result"
    }
   ],
   "source": [
    "import numpy as np\n",
    "x = np.array([1,2,3,4,5]*5).reshape((5,5))\n",
    "x"
   ]
  },
  {
   "cell_type": "markdown",
   "metadata": {},
   "source": [
    "    Numpy 배열(np.array)은 N차원 배열을 작성할 수 있다.\n",
    "    1차원, 2차원, 3차원 배열처럼 원하는 차수의 배열을 만들 수 있다.\n",
    "    수학에서는 1차원 배열을 벡터, 2차원 배열을 행렬이라고 부른다.\n",
    "    벡터와 행렬을 일반화 한 것을 텐서라 한다.\n",
    "    \n",
    "    tensor    flow\n",
    "    다차원     배열\n",
    "    \n",
    "    구글에서 만든 텐서플로우는 4차원 배열 연산(계산)을 빠르게 할 수 있게끔 구현되어져 있다.\n",
    "        1. 코드가 간결하다.\n",
    "        2. 신경망 구현에 필요한 모든 함수들이 다 내장되어 있다.\n",
    "        3. 속도가 빠르다.(코딩도 빨라지고 실행도 빠르다)\n",
    "        4. GPU를 사용할 수 있다."
   ]
  },
  {
   "cell_type": "markdown",
   "metadata": {},
   "source": [
    "## <b>■ Numpy의 브로드캐스트 기능 (p.39)</b>\n",
    "    Numpy에서 형상이 다른 배열끼리도 계산할 수 있다\n",
    "        숫자 10이 2x2행렬로 확대된 후 연산이 이루어진다. 이 기능을 브로드캐스트(broadcast)라고 한다"
   ]
  },
  {
   "cell_type": "markdown",
   "metadata": {},
   "source": [
    "### ※ 문제9. 아래의 그림의 브로드캐스트 예제를 Numpy로 구현하시오\n",
    "\n",
    "\n",
    "![fig](dl_images/fig1-2.png)"
   ]
  },
  {
   "cell_type": "code",
   "execution_count": 38,
   "metadata": {
    "ExecuteTime": {
     "end_time": "2020-07-29T05:59:22.714225Z",
     "start_time": "2020-07-29T05:59:22.707229Z"
    }
   },
   "outputs": [
    {
     "data": {
      "text/plain": [
       "array([[10, 40],\n",
       "       [30, 80]])"
      ]
     },
     "execution_count": 38,
     "metadata": {},
     "output_type": "execute_result"
    }
   ],
   "source": [
    "import numpy as np\n",
    "a = np.array([1,2,3,4]).reshape((2,2))\n",
    "a * [10,20]"
   ]
  },
  {
   "cell_type": "markdown",
   "metadata": {},
   "source": [
    "### <b>■Numpy 원소접근 (p.40)</b>\n",
    "    numpy 배열안에 요소들에 대한 접근은 numpy를 이용하지 않았을 때 보다 훨씬 간단하게 구현 가능\n",
    "\n",
    "#### 예제1. 아래의 행렬식을 만들고 아래의 행렬의 요소에서 15이상인 것만 출력하시오.\n",
    "    numpy 사용하지 말고 수행\n",
    "    \n",
    "$$\\begin{pmatrix}\n",
    "    51 & 55 \\\\\n",
    "    14 & 19 \\\\\n",
    "    0 & 4 \\\\\n",
    "    \\end{pmatrix}$$"
   ]
  },
  {
   "cell_type": "code",
   "execution_count": 39,
   "metadata": {
    "ExecuteTime": {
     "end_time": "2020-07-29T06:05:47.637724Z",
     "start_time": "2020-07-29T06:05:47.632727Z"
    }
   },
   "outputs": [
    {
     "name": "stdout",
     "output_type": "stream",
     "text": [
      "51\n",
      "55\n",
      "19\n"
     ]
    }
   ],
   "source": [
    "a = [[51,55],[14,19],[0,4]]\n",
    "for i in range(len(a)):\n",
    "    for j in range(len(a[i])):\n",
    "        if a[i][j]>=15:\n",
    "            print(a[i][j])"
   ]
  },
  {
   "cell_type": "markdown",
   "metadata": {},
   "source": [
    "### ※ 문제10. 위의 예제를 numpy를 이용해서 구현하시오"
   ]
  },
  {
   "cell_type": "code",
   "execution_count": 40,
   "metadata": {
    "ExecuteTime": {
     "end_time": "2020-07-29T06:12:33.891075Z",
     "start_time": "2020-07-29T06:12:33.865092Z"
    }
   },
   "outputs": [
    {
     "data": {
      "text/plain": [
       "array([51, 55, 19])"
      ]
     },
     "execution_count": 40,
     "metadata": {},
     "output_type": "execute_result"
    }
   ],
   "source": [
    "import numpy as np\n",
    "a = [[51,55],[14,19],[0,4]]\n",
    "b = np.array(a)\n",
    "b[b>=15]"
   ]
  },
  {
   "cell_type": "markdown",
   "metadata": {},
   "source": [
    "## <b>■ Matplotlib로 그래프 그리기</b>\n",
    "    딥러닝 실험에서는 그래프 그리기와 데이터 시각화가 중요\n",
    "    matplotlib는 그래프를 그리기 위한 라이브러리\n",
    "    matplotlib를 이용하면 그래프 그리기가 쉬움\n",
    "    \n",
    "    신경망에서 사용하는 그래프는 주로 라인 그래프\n",
    "#### 예제1. 파이썬으로 산포도 그래프 그리는 방법    "
   ]
  },
  {
   "cell_type": "code",
   "execution_count": 43,
   "metadata": {
    "ExecuteTime": {
     "end_time": "2020-07-29T06:20:48.871124Z",
     "start_time": "2020-07-29T06:20:48.710223Z"
    }
   },
   "outputs": [
    {
     "data": {
      "image/png": "[encoded data removed]",
      "text/plain": [
       "<Figure size 1440x720 with 1 Axes>"
      ]
     },
     "metadata": {
      "needs_background": "light"
     },
     "output_type": "display_data"
    }
   ],
   "source": [
    "import numpy as np\n",
    "import matplotlib.pyplot as plt\n",
    "plt.rcParams['figure.figsize']=(20,10)\n",
    "plt.rcParams.update({'font.size':22})\n",
    "\n",
    "x = np.array([0,1,2,3,4,5,6,7,8,9])\n",
    "y = np.array([9,8,7,9,8,3,2,4,3,4])\n",
    "\n",
    "plt.scatter(x, y, color='red', s=80)\n",
    "plt.show()"
   ]
  },
  {
   "cell_type": "markdown",
   "metadata": {},
   "source": [
    "### ※ 문제11. 위의 그래프를 라인 그래프로 그리시오"
   ]
  },
  {
   "cell_type": "code",
   "execution_count": 48,
   "metadata": {
    "ExecuteTime": {
     "end_time": "2020-07-29T06:23:04.208591Z",
     "start_time": "2020-07-29T06:23:04.053686Z"
    }
   },
   "outputs": [
    {
     "data": {
      "image/png": "[encoded data removed]",
      "text/plain": [
       "<Figure size 1440x720 with 1 Axes>"
      ]
     },
     "metadata": {
      "needs_background": "light"
     },
     "output_type": "display_data"
    }
   ],
   "source": [
    "import numpy as np\n",
    "import matplotlib.pyplot as plt\n",
    "plt.rcParams['figure.figsize']=(20,10)\n",
    "plt.rcParams.update({'font.size':22})\n",
    "\n",
    "x = np.array([0,1,2,3,4,5,6,7,8,9])\n",
    "y = np.array([9,8,7,9,8,3,2,4,3,4])\n",
    "\n",
    "plt.plot(x, color='red')\n",
    "plt.plot(y, color='blue')\n",
    "plt.show()"
   ]
  },
  {
   "cell_type": "markdown",
   "metadata": {},
   "source": [
    "### ※ 문제12. 위의 그래프에 '신경망 오차 그래프'로 제목을 붙이시오"
   ]
  },
  {
   "cell_type": "code",
   "execution_count": 59,
   "metadata": {
    "ExecuteTime": {
     "end_time": "2020-07-29T06:28:35.698211Z",
     "start_time": "2020-07-29T06:28:35.536311Z"
    }
   },
   "outputs": [
    {
     "data": {
      "image/png": "[encoded data removed]",
      "text/plain": [
       "<Figure size 1440x720 with 1 Axes>"
      ]
     },
     "metadata": {
      "needs_background": "light"
     },
     "output_type": "display_data"
    }
   ],
   "source": [
    "import numpy as np\n",
    "import matplotlib.pyplot as plt\n",
    "plt.rcParams['figure.figsize']=(20,10)\n",
    "plt.rcParams.update({'font.size':22})\n",
    "\n",
    "x = np.array([0,1,2,3,4,5,6,7,8,9])\n",
    "y = np.array([9,8,7,9,8,3,2,4,3,4])\n",
    "\n",
    "plt.title('신경망 오차 그래프')\n",
    "plt.plot(x, color='red',linestyle='--',marker='s')\n",
    "plt.plot(y, color='blue',marker='o')\n",
    "plt.show()"
   ]
  },
  {
   "cell_type": "markdown",
   "metadata": {},
   "source": [
    "### ※ 문제13. 아래의 수학식을 numpy로 구현하시오\n",
    "$$x_{1}+2x_{2}=-1, 3x_{1}+4x_{2}=0, 5x_{1}+6x_{2}=5$$"
   ]
  },
  {
   "cell_type": "code",
   "execution_count": 72,
   "metadata": {
    "ExecuteTime": {
     "end_time": "2020-07-29T06:39:36.453159Z",
     "start_time": "2020-07-29T06:39:36.445163Z"
    }
   },
   "outputs": [
    {
     "data": {
      "text/plain": [
       "array([[ 2. ],\n",
       "       [-1.5]])"
      ]
     },
     "execution_count": 72,
     "metadata": {},
     "output_type": "execute_result"
    }
   ],
   "source": [
    "import numpy as np\n",
    "A = np.array([1,2,3,4]).reshape((2,2))\n",
    "b = np.array([-1,0]).reshape(2,1)\n",
    "\n",
    "np.linalg.inv(A) @ b"
   ]
  },
  {
   "cell_type": "code",
   "execution_count": null,
   "metadata": {},
   "outputs": [],
   "source": []
  },
  {
   "cell_type": "code",
   "execution_count": null,
   "metadata": {},
   "outputs": [],
   "source": []
  },
  {
   "cell_type": "code",
   "execution_count": null,
   "metadata": {},
   "outputs": [],
   "source": []
  },
  {
   "cell_type": "code",
   "execution_count": null,
   "metadata": {},
   "outputs": [],
   "source": []
  },
  {
   "cell_type": "code",
   "execution_count": null,
   "metadata": {},
   "outputs": [],
   "source": []
  },
  {
   "cell_type": "code",
   "execution_count": null,
   "metadata": {},
   "outputs": [],
   "source": []
  }
 ],
 "metadata": {
  "kernelspec": {
   "display_name": "Python 3",
   "language": "python",
   "name": "python3"
  },
  "language_info": {
   "codemirror_mode": {
    "name": "ipython",
    "version": 3
   },
   "file_extension": ".py",
   "mimetype": "text/x-python",
   "name": "python",
   "nbconvert_exporter": "python",
   "pygments_lexer": "ipython3",
   "version": "3.7.6"
  },
  "toc": {
   "base_numbering": 1,
   "nav_menu": {},
   "number_sections": true,
   "sideBar": true,
   "skip_h1_title": false,
   "title_cell": "Table of Contents",
   "title_sidebar": "Contents",
   "toc_cell": false,
   "toc_position": {},
   "toc_section_display": true,
   "toc_window_display": false
  },
  "varInspector": {
   "cols": {
    "lenName": 16,
    "lenType": 16,
    "lenVar": 40
   },
   "kernels_config": {
    "python": {
     "delete_cmd_postfix": "",
     "delete_cmd_prefix": "del ",
     "library": "var_list.py",
     "varRefreshCmd": "print(var_dic_list())"
    },
    "r": {
     "delete_cmd_postfix": ") ",
     "delete_cmd_prefix": "rm(",
     "library": "var_list.r",
     "varRefreshCmd": "cat(var_dic_list()) "
    }
   },
   "types_to_exclude": [
    "module",
    "function",
    "builtin_function_or_method",
    "instance",
    "_Feature"
   ],
   "window_display": false
  }
 },
 "nbformat": 4,
 "nbformat_minor": 4
}

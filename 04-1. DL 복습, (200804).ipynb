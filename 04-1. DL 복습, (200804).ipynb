{
 "cells": [
  {
   "cell_type": "markdown",
   "metadata": {},
   "source": [
    "## <b>■ 복습</b>\n",
    "    1장 : Numpy\n",
    "        - 행렬의 고속 연산에 최적화된 모듈\n",
    "        - 형상이 다른 배열끼리 계산이 가능\n",
    "    2장 : 퍼셉트론\n",
    "        - 인간의 뇌세포 하나를 컴퓨터로 재현\n",
    "    3장 : 신경망 - 저자가 만든 가중치로 3층 신경망 구현\n",
    "        - 뉴런속의 활성화 함수 3가지\n",
    "            ① 계단함수\n",
    "            ② 시그모이드 함수\n",
    "            ③ ReLU 함수\n",
    "            ④ leaky ReLU 함수\n",
    "            ⑤ 엘루 함수(구글)\n",
    "        - 출력층의 함수 2가지\n",
    "            ① 항등함수 (회귀)\n",
    "            ② 소프트맥스 함수 (분류)\n",
    "    4장 : 신경망 - 수치 미분을 이용한 2층 신경망 구현\n",
    "        - 오차함수\n",
    "            ① 평균제곱오차 (회귀)\n",
    "            ② 교차 엔트로피 오차 (분류)\n",
    "    5장 : 신경망 - 오차 역전파를 이용한 2층 신경망 구현\n",
    "\n",
    "## <b>■ 3장. 신경망 - 저자가 만든 가중치로 3층 신경망 구현 (p.88)</b>"
   ]
  },
  {
   "cell_type": "code",
   "execution_count": 7,
   "metadata": {
    "ExecuteTime": {
     "end_time": "2020-08-04T02:03:09.087809Z",
     "start_time": "2020-08-04T02:03:09.073817Z"
    }
   },
   "outputs": [
    {
     "name": "stdout",
     "output_type": "stream",
     "text": [
      "[0.31682708 0.69627909]\n"
     ]
    }
   ],
   "source": [
    "import numpy as np\n",
    "def identity_function(x):\n",
    "    return x\n",
    "\n",
    "def sigmoid(x):\n",
    "    return 1/(1+np.exp(-x))\n",
    "\n",
    "def init_network():\n",
    "    network = {}\n",
    "    network['W1'] = np.array([[0.1,0.3,0.5],[0.2,0.4,0.6]])\n",
    "    network['b1'] = np.array([0.1,0.2,0.3])\n",
    "    network['W2'] = np.array([[0.1,0.4],[0.2,0.5],[0.3,0.6]])\n",
    "    network['b2'] = np.array([0.1,0.2])\n",
    "    network['W3'] = np.array([[0.1,0.3],[0.2,0.4]])\n",
    "    network['b3'] = np.array([0.1,0.2])\n",
    "    \n",
    "    return network\n",
    "\n",
    "def forward(network, k):\n",
    "    W1, W2, W3 = network['W1'], network['W2'], network['W3']\n",
    "    b1, b2, b3 = network['b1'], network['b2'], network['b3']\n",
    "    \n",
    "    a1 = np.dot(x, W1) + b1\n",
    "    z1 = sigmoid(a1)\n",
    "    a2 = np.dot(z1, W2) + b2\n",
    "    z2 = sigmoid(a2)\n",
    "    a3 = np.dot(z2, W3) + b3\n",
    "    y = identity_function(a3)\n",
    "    \n",
    "    return y\n",
    "\n",
    "network = init_network()\n",
    "x = np.array([1.0, 0.5])\n",
    "y = forward(network,x)\n",
    "print(y)"
   ]
  },
  {
   "cell_type": "markdown",
   "metadata": {},
   "source": [
    "### <b>■ Mnist Dataset</b>\n",
    "    사람이 쓴 필기체 Data (숫자 0~9)\n",
    "        훈련 60_000장\n",
    "        테스트 10_000장\n",
    "    \n",
    "![layer](nn-3rd_layer.png)\n",
    "![embed](ohembedding.png)\n",
    "![h1](hidden1.png)\n",
    "<center><b> 은닉 2층, 출력층 모두 같은 연산방식 </h></center>\n",
    "\n",
    "### <b>Batch(배치) 처리</b>\n",
    "![batch](batch_process.png)"
   ]
  },
  {
   "cell_type": "markdown",
   "metadata": {},
   "source": [
    " #### <b>면접문제. 신경망에서 배치처리를 하는 이유는 무엇?</b>\n",
    "     큰 배열을 한꺼번에 계산하는 것이 작은 배열을 여러번 계산하는 것보다 빠르기 때문"
   ]
  },
  {
   "cell_type": "markdown",
   "metadata": {},
   "source": [
    "### ※ 문제32. (점심시간 문제) 책 97페이지의 코드를 수행해서 필기체 데이터를 dataset에서 불러오고 필기체 데이터가 훈련이 60000장, 테스트 데이터가 10000장이 맞는지 확인하시오"
   ]
  },
  {
   "cell_type": "code",
   "execution_count": null,
   "metadata": {},
   "outputs": [],
   "source": []
  },
  {
   "cell_type": "code",
   "execution_count": null,
   "metadata": {},
   "outputs": [],
   "source": []
  }
 ],
 "metadata": {
  "kernelspec": {
   "display_name": "Python 3",
   "language": "python",
   "name": "python3"
  },
  "language_info": {
   "codemirror_mode": {
    "name": "ipython",
    "version": 3
   },
   "file_extension": ".py",
   "mimetype": "text/x-python",
   "name": "python",
   "nbconvert_exporter": "python",
   "pygments_lexer": "ipython3",
   "version": "3.7.6"
  },
  "toc": {
   "base_numbering": 1,
   "nav_menu": {},
   "number_sections": true,
   "sideBar": true,
   "skip_h1_title": false,
   "title_cell": "Table of Contents",
   "title_sidebar": "Contents",
   "toc_cell": false,
   "toc_position": {},
   "toc_section_display": true,
   "toc_window_display": false
  },
  "varInspector": {
   "cols": {
    "lenName": 16,
    "lenType": 16,
    "lenVar": 40
   },
   "kernels_config": {
    "python": {
     "delete_cmd_postfix": "",
     "delete_cmd_prefix": "del ",
     "library": "var_list.py",
     "varRefreshCmd": "print(var_dic_list())"
    },
    "r": {
     "delete_cmd_postfix": ") ",
     "delete_cmd_prefix": "rm(",
     "library": "var_list.r",
     "varRefreshCmd": "cat(var_dic_list()) "
    }
   },
   "types_to_exclude": [
    "module",
    "function",
    "builtin_function_or_method",
    "instance",
    "_Feature"
   ],
   "window_display": false
  }
 },
 "nbformat": 4,
 "nbformat_minor": 4
}

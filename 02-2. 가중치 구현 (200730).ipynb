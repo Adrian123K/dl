{
 "cells": [
  {
   "cell_type": "markdown",
   "metadata": {},
   "source": [
    "### <b>■ 기계가 직접 학습해서 가중치(W)를 알아내게끔 하는 방법</b>\n",
    "#### 예제1. 아래의 두 행렬을 생성하시오\n",
    "$$x=\\begin{bmatrix} -1 & 0 & 0 \\\\ -1 & 0 & 0 \\\\ -1 & 0 & 1 \\\\ -1 & 1 & 1 \\\\ \\end{bmatrix} \\\\ w = \\begin{bmatrix} 0.3 \\\\ 0.4 \\\\ 0.1 \\\\ \\end{bmatrix}$$"
   ]
  },
  {
   "cell_type": "code",
   "execution_count": 1,
   "metadata": {
    "ExecuteTime": {
     "end_time": "2020-07-30T04:52:24.325595Z",
     "start_time": "2020-07-30T04:52:24.312604Z"
    }
   },
   "outputs": [
    {
     "data": {
      "text/plain": [
       "(array([[-1,  0,  0],\n",
       "        [-1,  1,  0],\n",
       "        [-1,  0,  1],\n",
       "        [-1,  1,  1]]),\n",
       " array([[0.3],\n",
       "        [0.4],\n",
       "        [0.1]]))"
      ]
     },
     "execution_count": 1,
     "metadata": {},
     "output_type": "execute_result"
    }
   ],
   "source": [
    "import numpy as np\n",
    "x = np.array([-1,0,0,-1,1,0,-1,0,1,-1,1,1]).reshape(4,3)\n",
    "w = np.array([0.3,0.4,0.1]).reshape(3,1)\n",
    "x, w"
   ]
  },
  {
   "cell_type": "markdown",
   "metadata": {},
   "source": [
    "#### 예제2. 위의 $x$값과 $w$값을 이용해서 아래와 같이 계산하시오\n",
    "$$ \\begin{bmatrix} -1 & 0 & 0 \\end{bmatrix} \\cdot \\begin{bmatrix} 0.3 & 0.4 & 0.1 \\\\ \\end{bmatrix} = \\begin{bmatrix} -0.3 & 0 & 0 \\\\ \\end{bmatrix} $$"
   ]
  },
  {
   "cell_type": "code",
   "execution_count": 3,
   "metadata": {
    "ExecuteTime": {
     "end_time": "2020-07-30T04:58:33.783680Z",
     "start_time": "2020-07-30T04:58:33.778684Z"
    }
   },
   "outputs": [
    {
     "data": {
      "text/plain": [
       "array([[-0.3,  0. ,  0. ]])"
      ]
     },
     "execution_count": 3,
     "metadata": {},
     "output_type": "execute_result"
    }
   ],
   "source": [
    "x[0]*w.T"
   ]
  },
  {
   "cell_type": "markdown",
   "metadata": {},
   "source": [
    "#### 예제3. 위에서 곱해서 나온 숫자들 3개를 다 더하시오"
   ]
  },
  {
   "cell_type": "code",
   "execution_count": 4,
   "metadata": {
    "ExecuteTime": {
     "end_time": "2020-07-30T05:01:51.804336Z",
     "start_time": "2020-07-30T05:01:51.798340Z"
    }
   },
   "outputs": [
    {
     "data": {
      "text/plain": [
       "-0.3"
      ]
     },
     "execution_count": 4,
     "metadata": {},
     "output_type": "execute_result"
    }
   ],
   "source": [
    "np.sum(x[0]*w.T)"
   ]
  },
  {
   "cell_type": "markdown",
   "metadata": {},
   "source": [
    "    모든 프로그래밍은 함수로 구성되어져 있다.\n",
    "        1. 로직을 함수로 생성\n",
    "        2. 비슷한 기능을 하는 함수를 모아서 클래스 생성\n",
    "        3. 클래스를 모듈(파일이름.py)로 저장해서 import로 호출해서 사용\n",
    "    위의 3가지 방법으로 프로그래밍 하는 것을 습관화시켜야 한다.\n",
    "    \n",
    "    "
   ]
  },
  {
   "cell_type": "markdown",
   "metadata": {},
   "source": [
    "#### 예제4. 위의 코드를 predict라는 함수로 생성해서 아래와 같이 실행되게 하시오\n",
    "```python\n",
    "print(predict(x,w))\n",
    "-0.3\n",
    "```"
   ]
  },
  {
   "cell_type": "code",
   "execution_count": 6,
   "metadata": {
    "ExecuteTime": {
     "end_time": "2020-07-30T05:10:18.777585Z",
     "start_time": "2020-07-30T05:10:18.770589Z"
    }
   },
   "outputs": [
    {
     "data": {
      "text/plain": [
       "-0.3"
      ]
     },
     "execution_count": 6,
     "metadata": {},
     "output_type": "execute_result"
    }
   ],
   "source": [
    "def predict(x,w):\n",
    "    a = np.sum(x*w.T)\n",
    "    return a\n",
    "predict(x[0],w)"
   ]
  },
  {
   "cell_type": "markdown",
   "metadata": {},
   "source": [
    "#### 예제5. 입력값 4개의 k 값을 다 출력하시오 (for문 돌려서 생성)"
   ]
  },
  {
   "cell_type": "code",
   "execution_count": 7,
   "metadata": {
    "ExecuteTime": {
     "end_time": "2020-07-30T05:11:54.906885Z",
     "start_time": "2020-07-30T05:11:54.902886Z"
    }
   },
   "outputs": [
    {
     "name": "stdout",
     "output_type": "stream",
     "text": [
      "-0.3\n",
      "0.10000000000000003\n",
      "-0.19999999999999998\n",
      "0.20000000000000004\n"
     ]
    }
   ],
   "source": [
    "for i in range(len(x)):\n",
    "    print(predict(x[i],w))"
   ]
  },
  {
   "cell_type": "markdown",
   "metadata": {},
   "source": [
    "#### 예제6. 아래의 k값이 step_function 함수에 들어오면 결과로 0과 1이 출력되게 하시오"
   ]
  },
  {
   "cell_type": "code",
   "execution_count": 9,
   "metadata": {
    "ExecuteTime": {
     "end_time": "2020-07-30T05:17:27.839353Z",
     "start_time": "2020-07-30T05:17:27.834356Z"
    }
   },
   "outputs": [
    {
     "name": "stdout",
     "output_type": "stream",
     "text": [
      "-0.3 ---> 0\n",
      "0.10000000000000003 ---> 1\n",
      "-0.19999999999999998 ---> 0\n",
      "0.20000000000000004 ---> 1\n"
     ]
    }
   ],
   "source": [
    "for i in range(len(x)):\n",
    "    if predict(x[i],w)>0:\n",
    "        print(f\"{predict(x[i],w)} ---> 1\")\n",
    "    else:\n",
    "        print(f\"{predict(x[i],w)} ---> 0\")"
   ]
  },
  {
   "cell_type": "code",
   "execution_count": 10,
   "metadata": {
    "ExecuteTime": {
     "end_time": "2020-07-30T05:23:18.235199Z",
     "start_time": "2020-07-30T05:23:18.208216Z"
    }
   },
   "outputs": [
    {
     "name": "stdout",
     "output_type": "stream",
     "text": [
      "0\n",
      "1\n",
      "0\n",
      "1\n"
     ]
    }
   ],
   "source": [
    "def step_func(x):\n",
    "    y = np.array(x>0) # 입력된 값이 True, False\n",
    "    return y.astype(np.int)\n",
    "\n",
    "def predict(x,w):\n",
    "    a = np.sum(x*w.T)\n",
    "    return a\n",
    "\n",
    "for inputs in x:\n",
    "    k = predict(inputs,w)\n",
    "    print(step_func(k))"
   ]
  },
  {
   "cell_type": "markdown",
   "metadata": {},
   "source": [
    "#### 예제7. 위에서 출력된 f(k)값과 target의 차이(오차)를 출력하시오"
   ]
  },
  {
   "cell_type": "code",
   "execution_count": 12,
   "metadata": {
    "ExecuteTime": {
     "end_time": "2020-07-30T05:32:00.696955Z",
     "start_time": "2020-07-30T05:32:00.664974Z"
    }
   },
   "outputs": [
    {
     "name": "stdout",
     "output_type": "stream",
     "text": [
      "[1]\n",
      "[0]\n",
      "[1]\n",
      "[0]\n"
     ]
    }
   ],
   "source": [
    "target = np.array([0,0,0,1]).reshape(4,1)\n",
    "for inputs in x:\n",
    "    k = predict(inputs, w)\n",
    "    print(target[i]-step_func(k))"
   ]
  },
  {
   "cell_type": "markdown",
   "metadata": {},
   "source": [
    "#### 예제8. predict 함수에 step_func을 포함시키시오"
   ]
  },
  {
   "cell_type": "code",
   "execution_count": 14,
   "metadata": {
    "ExecuteTime": {
     "end_time": "2020-07-30T05:35:50.614908Z",
     "start_time": "2020-07-30T05:35:50.606913Z"
    }
   },
   "outputs": [
    {
     "name": "stdout",
     "output_type": "stream",
     "text": [
      "[0]\n",
      "[-1]\n",
      "[0]\n",
      "[0]\n"
     ]
    }
   ],
   "source": [
    "def step_func(x):\n",
    "    y = np.array(x>0) \n",
    "    return y.astype(np.int)\n",
    "\n",
    "def predict(x,w):\n",
    "    a = np.sum(x*w.T)\n",
    "    return step_func(a)\n",
    "\n",
    "for i in range(len(x)):\n",
    "    cost = target[i] - predict(x[i],w)\n",
    "    print(cost)"
   ]
  },
  {
   "cell_type": "code",
   "execution_count": null,
   "metadata": {},
   "outputs": [],
   "source": []
  },
  {
   "cell_type": "code",
   "execution_count": null,
   "metadata": {},
   "outputs": [],
   "source": []
  },
  {
   "cell_type": "code",
   "execution_count": null,
   "metadata": {},
   "outputs": [],
   "source": []
  }
 ],
 "metadata": {
  "kernelspec": {
   "display_name": "Python 3",
   "language": "python",
   "name": "python3"
  },
  "language_info": {
   "codemirror_mode": {
    "name": "ipython",
    "version": 3
   },
   "file_extension": ".py",
   "mimetype": "text/x-python",
   "name": "python",
   "nbconvert_exporter": "python",
   "pygments_lexer": "ipython3",
   "version": "3.7.6"
  },
  "toc": {
   "base_numbering": 1,
   "nav_menu": {},
   "number_sections": true,
   "sideBar": true,
   "skip_h1_title": false,
   "title_cell": "Table of Contents",
   "title_sidebar": "Contents",
   "toc_cell": false,
   "toc_position": {},
   "toc_section_display": true,
   "toc_window_display": false
  },
  "varInspector": {
   "cols": {
    "lenName": 16,
    "lenType": 16,
    "lenVar": 40
   },
   "kernels_config": {
    "python": {
     "delete_cmd_postfix": "",
     "delete_cmd_prefix": "del ",
     "library": "var_list.py",
     "varRefreshCmd": "print(var_dic_list())"
    },
    "r": {
     "delete_cmd_postfix": ") ",
     "delete_cmd_prefix": "rm(",
     "library": "var_list.r",
     "varRefreshCmd": "cat(var_dic_list()) "
    }
   },
   "types_to_exclude": [
    "module",
    "function",
    "builtin_function_or_method",
    "instance",
    "_Feature"
   ],
   "window_display": false
  }
 },
 "nbformat": 4,
 "nbformat_minor": 4
}
